{
 "cells": [
  {
   "cell_type": "markdown",
   "id": "2ee99c65",
   "metadata": {},
   "source": [
    "# 🧪 Module 1: Python Code Exercise with Case Studies\n",
    "**Topic:** Detecting and Fixing Software Faults"
   ]
  },
  {
   "cell_type": "markdown",
   "id": "aa8901c7",
   "metadata": {},
   "source": [
    "## 📘 What This Module Is About\n",
    "\n",
    "This module helps you identify and fix software faults in Python code—specifically **errors**, **defects**, and **failures**. Faults can occur at any stage of the software lifecycle and cause real-world issues such as crashes or incorrect results.\n",
    "\n",
    "### ❓ Why This Is Important\n",
    "Software faults are not just bugs—they represent flaws in logic, understanding, or execution that can cause significant damage if left unchecked. Learning to catch and correct them early is a foundational skill in Software Quality Assurance (SQA).\n"
   ]
  },
  {
   "cell_type": "markdown",
   "id": "efa659ed",
   "metadata": {},
   "source": [
    "## 🎯 Objective\n",
    "Detect and correct software faults through real-world-inspired examples and case studies."
   ]
  },
  {
   "cell_type": "markdown",
   "id": "e313663c",
   "metadata": {},
   "source": [
    "## 🧠 Examples with Case Studies, Fixes, and Explanations"
   ]
  },
  {
   "cell_type": "markdown",
   "id": "5125bb9e",
   "metadata": {},
   "source": [
    "### Example 1: Assignment Instead of Comparison (Error)"
   ]
  },
  {
   "cell_type": "markdown",
   "id": "88476c6f",
   "metadata": {},
   "source": [
    "**Case Study:** A junior developer was asked to write a function that checks if a number is zero. However, they mistakenly used `=` instead of `==`, resulting in a syntax error during execution."
   ]
  },
  {
   "cell_type": "code",
   "execution_count": null,
   "id": "f9ecb787",
   "metadata": {},
   "outputs": [],
   "source": [
    "def is_zero(n):\n",
    "    if n = 0:\n",
    "        return True\n",
    "    return False\n",
    "\n",
    "print(is_zero(3))"
   ]
  },
  {
   "cell_type": "markdown",
   "id": "3e744eaf",
   "metadata": {},
   "source": [
    "✅ **Fix:**"
   ]
  },
  {
   "cell_type": "code",
   "execution_count": null,
   "id": "070da3f2",
   "metadata": {},
   "outputs": [],
   "source": [
    "def is_zero(n):\n",
    "    if n == 0:\n",
    "        return True\n",
    "    return False\n",
    "\n",
    "print(is_zero(3))"
   ]
  },
  {
   "cell_type": "markdown",
   "id": "6464a80d",
   "metadata": {},
   "source": [
    "**Explanation:** The original code used the assignment operator `=` instead of the comparison operator `==`. In Python, `=` assigns values, while `==` checks equality. Using `=` inside a condition causes a syntax error."
   ]
  },
  {
   "cell_type": "markdown",
   "id": "fbba1bf0",
   "metadata": {},
   "source": [
    "### Example 2: Division by Zero (Failure)"
   ]
  },
  {
   "cell_type": "markdown",
   "id": "76c9d3cd",
   "metadata": {},
   "source": [
    "**Case Study:** A product rating system divided the total score by the number of reviews. When there were no reviews, the app crashed due to division by zero."
   ]
  },
  {
   "cell_type": "code",
   "execution_count": null,
   "id": "279d3bda",
   "metadata": {},
   "outputs": [],
   "source": [
    "def average_rating(total_score, reviews):\n",
    "    return total_score / reviews\n",
    "\n",
    "print(average_rating(85, 0))"
   ]
  },
  {
   "cell_type": "markdown",
   "id": "0217f75d",
   "metadata": {},
   "source": [
    "✅ **Fix:**"
   ]
  },
  {
   "cell_type": "code",
   "execution_count": null,
   "id": "5ae1484f",
   "metadata": {},
   "outputs": [],
   "source": [
    "def average_rating(total_score, reviews):\n",
    "    if reviews == 0:\n",
    "        return 'No reviews yet'\n",
    "    return total_score / reviews\n",
    "\n",
    "print(average_rating(85, 0))"
   ]
  },
  {
   "cell_type": "markdown",
   "id": "a0df0dbe",
   "metadata": {},
   "source": [
    "**Explanation:** The issue was that division by zero is not allowed in Python. The fix checks if `reviews` is zero before performing the division, returning a fallback message instead."
   ]
  },
  {
   "cell_type": "markdown",
   "id": "3d53d2bf",
   "metadata": {},
   "source": [
    "### Example 3: Type Mismatch (Defect)"
   ]
  },
  {
   "cell_type": "markdown",
   "id": "1b90c54f",
   "metadata": {},
   "source": [
    "**Case Study:** A function to compute total cost accepted user input from a form as a string. It failed to convert it to a numeric type, leading to a TypeError."
   ]
  },
  {
   "cell_type": "code",
   "execution_count": null,
   "id": "63ef7d35",
   "metadata": {},
   "outputs": [],
   "source": [
    "def total_cost(price, quantity):\n",
    "    return price * quantity\n",
    "\n",
    "print(total_cost(\"100\", 2))"
   ]
  },
  {
   "cell_type": "markdown",
   "id": "3f5c2c86",
   "metadata": {},
   "source": [
    "✅ **Fix:**"
   ]
  },
  {
   "cell_type": "code",
   "execution_count": null,
   "id": "47219f8c",
   "metadata": {},
   "outputs": [],
   "source": [
    "def total_cost(price, quantity):\n",
    "    return float(price) * quantity\n",
    "\n",
    "print(total_cost(\"100\", 2))"
   ]
  },
  {
   "cell_type": "markdown",
   "id": "a3030752",
   "metadata": {},
   "source": [
    "**Explanation:** Since `price` was a string, multiplying it by an integer caused unintended string repetition. Converting `price` to a float fixed the issue and ensured numeric behavior."
   ]
  },
  {
   "cell_type": "markdown",
   "id": "26af7d04",
   "metadata": {},
   "source": [
    "### Example 4: Logic Error in Loop (Error)"
   ]
  },
  {
   "cell_type": "markdown",
   "id": "41fd4d12",
   "metadata": {},
   "source": [
    "**Case Study:** An algorithm was supposed to find the highest test score, but instead returned the lowest due to incorrect comparison logic."
   ]
  },
  {
   "cell_type": "code",
   "execution_count": null,
   "id": "ebb9eb80",
   "metadata": {},
   "outputs": [],
   "source": [
    "def max_score(scores):\n",
    "    max_val = 0\n",
    "    for score in scores:\n",
    "        if score < max_val:\n",
    "            max_val = score\n",
    "    return max_val\n",
    "\n",
    "print(max_score([45, 80, 67]))"
   ]
  },
  {
   "cell_type": "markdown",
   "id": "21f27d45",
   "metadata": {},
   "source": [
    "✅ **Fix:**"
   ]
  },
  {
   "cell_type": "code",
   "execution_count": null,
   "id": "ede0d113",
   "metadata": {},
   "outputs": [],
   "source": [
    "def max_score(scores):\n",
    "    max_val = scores[0]\n",
    "    for score in scores:\n",
    "        if score > max_val:\n",
    "            max_val = score\n",
    "    return max_val\n",
    "\n",
    "print(max_score([45, 80, 67]))"
   ]
  },
  {
   "cell_type": "markdown",
   "id": "740eaaae",
   "metadata": {},
   "source": [
    "**Explanation:** The original logic compared using `<` instead of `>`, resulting in tracking the minimum value. The corrected version uses `>` and initializes with the first item."
   ]
  },
  {
   "cell_type": "markdown",
   "id": "ddf498e9",
   "metadata": {},
   "source": [
    "### Example 5: Off-by-One Indexing (Error)"
   ]
  },
  {
   "cell_type": "markdown",
   "id": "1f48db6f",
   "metadata": {},
   "source": [
    "**Case Study:** In a function to print elements of a list, an off-by-one error caused the program to crash when it accessed an index out of range."
   ]
  },
  {
   "cell_type": "code",
   "execution_count": null,
   "id": "1ef9de50",
   "metadata": {},
   "outputs": [],
   "source": [
    "def print_items(items):\n",
    "    for i in range(len(items)):\n",
    "        print(items[i+1])\n",
    "\n",
    "print_items(['a', 'b', 'c'])"
   ]
  },
  {
   "cell_type": "markdown",
   "id": "ea6acfc5",
   "metadata": {},
   "source": [
    "✅ **Fix:**"
   ]
  },
  {
   "cell_type": "code",
   "execution_count": null,
   "id": "85a34a2a",
   "metadata": {},
   "outputs": [],
   "source": [
    "def print_items(items):\n",
    "    for i in range(len(items)):\n",
    "        print(items[i])\n",
    "\n",
    "print_items(['a', 'b', 'c'])"
   ]
  },
  {
   "cell_type": "markdown",
   "id": "1e9b9d7f",
   "metadata": {},
   "source": [
    "**Explanation:** Accessing `i+1` on the last index leads to an IndexError. The corrected code simply accesses `items[i]`, which stays within bounds."
   ]
  },
  {
   "cell_type": "markdown",
   "id": "6c7c6bf0",
   "metadata": {},
   "source": [
    "## 📝 Try It Yourself: Student Exercises"
   ]
  },
  {
   "cell_type": "markdown",
   "id": "1b685ab1",
   "metadata": {},
   "source": [
    "### Exercise 1\n",
    "**Task:** Fix the missing operand in the return statement."
   ]
  },
  {
   "cell_type": "code",
   "execution_count": null,
   "id": "cf3e670d",
   "metadata": {},
   "outputs": [],
   "source": [
    "def multiply(a, b):\n",
    "    return a *\n",
    "\n",
    "print(multiply(3, 4))"
   ]
  },
  {
   "cell_type": "markdown",
   "id": "25088aa1",
   "metadata": {},
   "source": [
    "### Exercise 2\n",
    "**Task:** Correct the use of `=` where a comparison is expected."
   ]
  },
  {
   "cell_type": "code",
   "execution_count": null,
   "id": "2b384f37",
   "metadata": {},
   "outputs": [],
   "source": [
    "def greet(name):\n",
    "    if name = \"\":\n",
    "        return \"Hello, Guest!\"\n",
    "    return f\"Hello, {name}\"\n",
    "\n",
    "print(greet(\"\"))"
   ]
  },
  {
   "cell_type": "markdown",
   "id": "4f49fae0",
   "metadata": {},
   "source": [
    "### Exercise 3\n",
    "**Task:** Correct the typo in the variable name to avoid a NameError."
   ]
  },
  {
   "cell_type": "code",
   "execution_count": null,
   "id": "78d0faa9",
   "metadata": {},
   "outputs": [],
   "source": [
    "def circle_area(radius):\n",
    "    return 3.14 * radius * radus\n",
    "\n",
    "print(circle_area(5))"
   ]
  },
  {
   "cell_type": "markdown",
   "id": "e26dd972",
   "metadata": {},
   "source": [
    "### Exercise 4\n",
    "**Task:** Fix the loop to ensure all values are included in the sum."
   ]
  },
  {
   "cell_type": "code",
   "execution_count": null,
   "id": "43805adb",
   "metadata": {},
   "outputs": [],
   "source": [
    "def total(lst):\n",
    "    sum = 0\n",
    "    for i in range(1, len(lst)):\n",
    "        sum += lst[i]\n",
    "    return sum\n",
    "\n",
    "print(total([1, 2, 3, 4]))"
   ]
  },
  {
   "cell_type": "markdown",
   "id": "7e657010",
   "metadata": {},
   "source": [
    "### Exercise 5\n",
    "**Task:** Avoid runtime error from dividing by zero."
   ]
  },
  {
   "cell_type": "code",
   "execution_count": null,
   "id": "1bc59845",
   "metadata": {},
   "outputs": [],
   "source": [
    "def divide(a, b):\n",
    "    return a / b\n",
    "\n",
    "print(divide(10, 0))"
   ]
  }
 ],
 "metadata": {
  "language_info": {
   "name": "python"
  }
 },
 "nbformat": 4,
 "nbformat_minor": 5
}
