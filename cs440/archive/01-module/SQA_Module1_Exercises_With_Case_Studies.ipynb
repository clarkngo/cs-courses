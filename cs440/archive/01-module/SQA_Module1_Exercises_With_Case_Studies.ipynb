{
 "cells": [
  {
   "cell_type": "markdown",
   "id": "6db4df17",
   "metadata": {},
   "source": [
    "# 🧪 Module 1: Python Code Exercise with Case Studies\n",
    "**Topic:** Detecting and Fixing Software Faults"
   ]
  },
  {
   "cell_type": "markdown",
   "id": "9fdbfeb2",
   "metadata": {},
   "source": [
    "## 📘 What This Module Is About\n",
    "\n",
    "This module helps you identify and fix software faults in Python code—specifically **errors**, **defects**, and **failures**. Faults can occur at any stage of the software lifecycle and cause real-world issues such as crashes or incorrect results.\n",
    "\n",
    "### ❓ Why This Is Important\n",
    "Software faults are not just bugs—they represent flaws in logic, understanding, or execution that can cause significant damage if left unchecked. Learning to catch and correct them early is a foundational skill in Software Quality Assurance (SQA).\n"
   ]
  },
  {
   "cell_type": "markdown",
   "id": "258a248d",
   "metadata": {},
   "source": [
    "## 🎯 Objective\n",
    "Detect and correct software faults through real-world-inspired examples and case studies."
   ]
  },
  {
   "cell_type": "markdown",
   "id": "fca7ce6d",
   "metadata": {},
   "source": [
    "## 🧠 Examples with Case Studies"
   ]
  },
  {
   "cell_type": "markdown",
   "id": "f9afeed7",
   "metadata": {},
   "source": [
    "### Example 1: Assignment Instead of Comparison (Error)"
   ]
  },
  {
   "cell_type": "markdown",
   "id": "13977686",
   "metadata": {},
   "source": [
    "**Case Study:** A junior developer was asked to write a function that checks if a number is zero. However, they mistakenly used `=` instead of `==`, resulting in a syntax error during execution."
   ]
  },
  {
   "cell_type": "code",
   "execution_count": null,
   "id": "96ccf0cd",
   "metadata": {},
   "outputs": [],
   "source": [
    "def is_zero(n):\n",
    "    if n = 0:\n",
    "        return True\n",
    "    return False\n",
    "\n",
    "print(is_zero(3))"
   ]
  },
  {
   "cell_type": "markdown",
   "id": "0b971485",
   "metadata": {},
   "source": [
    "✅ **Fix:**"
   ]
  },
  {
   "cell_type": "code",
   "execution_count": null,
   "id": "5a5a1151",
   "metadata": {},
   "outputs": [],
   "source": [
    "def is_zero(n):\n",
    "    if n == 0:\n",
    "        return True\n",
    "    return False\n",
    "\n",
    "print(is_zero(3))"
   ]
  },
  {
   "cell_type": "markdown",
   "id": "f73b5c45",
   "metadata": {},
   "source": [
    "### Example 2: Division by Zero (Failure)"
   ]
  },
  {
   "cell_type": "markdown",
   "id": "b8a707c0",
   "metadata": {},
   "source": [
    "**Case Study:** A product rating system divided the total score by the number of reviews. When there were no reviews, the app crashed due to division by zero."
   ]
  },
  {
   "cell_type": "code",
   "execution_count": null,
   "id": "5dddf24d",
   "metadata": {},
   "outputs": [],
   "source": [
    "def average_rating(total_score, reviews):\n",
    "    return total_score / reviews\n",
    "\n",
    "print(average_rating(85, 0))"
   ]
  },
  {
   "cell_type": "markdown",
   "id": "38045cc3",
   "metadata": {},
   "source": [
    "✅ **Fix:**"
   ]
  },
  {
   "cell_type": "code",
   "execution_count": null,
   "id": "6b7b2649",
   "metadata": {},
   "outputs": [],
   "source": [
    "def average_rating(total_score, reviews):\n",
    "    if reviews == 0:\n",
    "        return 'No reviews yet'\n",
    "    return total_score / reviews\n",
    "\n",
    "print(average_rating(85, 0))"
   ]
  },
  {
   "cell_type": "markdown",
   "id": "d4e5d825",
   "metadata": {},
   "source": [
    "### Example 3: Type Mismatch (Defect)"
   ]
  },
  {
   "cell_type": "markdown",
   "id": "17399ad6",
   "metadata": {},
   "source": [
    "**Case Study:** A function to compute total cost accepted user input from a form as a string. It failed to convert it to a numeric type, leading to a TypeError."
   ]
  },
  {
   "cell_type": "code",
   "execution_count": null,
   "id": "94d994ab",
   "metadata": {},
   "outputs": [],
   "source": [
    "def total_cost(price, quantity):\n",
    "    return price * quantity\n",
    "\n",
    "print(total_cost(\"100\", 2))"
   ]
  },
  {
   "cell_type": "markdown",
   "id": "bac53e2c",
   "metadata": {},
   "source": [
    "✅ **Fix:**"
   ]
  },
  {
   "cell_type": "code",
   "execution_count": null,
   "id": "281376da",
   "metadata": {},
   "outputs": [],
   "source": [
    "def total_cost(price, quantity):\n",
    "    return float(price) * quantity\n",
    "\n",
    "print(total_cost(\"100\", 2))"
   ]
  },
  {
   "cell_type": "markdown",
   "id": "08662df5",
   "metadata": {},
   "source": [
    "### Example 4: Logic Error in Loop (Error)"
   ]
  },
  {
   "cell_type": "markdown",
   "id": "0fb3856b",
   "metadata": {},
   "source": [
    "**Case Study:** An algorithm was supposed to find the highest test score, but instead returned the lowest due to incorrect comparison logic."
   ]
  },
  {
   "cell_type": "code",
   "execution_count": null,
   "id": "eaf86ae2",
   "metadata": {},
   "outputs": [],
   "source": [
    "def max_score(scores):\n",
    "    max_val = 0\n",
    "    for score in scores:\n",
    "        if score < max_val:\n",
    "            max_val = score\n",
    "    return max_val\n",
    "\n",
    "print(max_score([45, 80, 67]))"
   ]
  },
  {
   "cell_type": "markdown",
   "id": "a320bb37",
   "metadata": {},
   "source": [
    "✅ **Fix:**"
   ]
  },
  {
   "cell_type": "code",
   "execution_count": null,
   "id": "6022a1cd",
   "metadata": {},
   "outputs": [],
   "source": [
    "def max_score(scores):\n",
    "    max_val = scores[0]\n",
    "    for score in scores:\n",
    "        if score > max_val:\n",
    "            max_val = score\n",
    "    return max_val\n",
    "\n",
    "print(max_score([45, 80, 67]))"
   ]
  },
  {
   "cell_type": "markdown",
   "id": "047dd646",
   "metadata": {},
   "source": [
    "### Example 5: Off-by-One Indexing (Error)"
   ]
  },
  {
   "cell_type": "markdown",
   "id": "f0f309dc",
   "metadata": {},
   "source": [
    "**Case Study:** In a function to print elements of a list, an off-by-one error caused the program to crash when it accessed an index out of range."
   ]
  },
  {
   "cell_type": "code",
   "execution_count": null,
   "id": "1a784166",
   "metadata": {},
   "outputs": [],
   "source": [
    "def print_items(items):\n",
    "    for i in range(len(items)):\n",
    "        print(items[i+1])\n",
    "\n",
    "print_items(['a', 'b', 'c'])"
   ]
  },
  {
   "cell_type": "markdown",
   "id": "ac30eb01",
   "metadata": {},
   "source": [
    "✅ **Fix:**"
   ]
  },
  {
   "cell_type": "code",
   "execution_count": null,
   "id": "88332ea9",
   "metadata": {},
   "outputs": [],
   "source": [
    "def print_items(items):\n",
    "    for i in range(len(items)):\n",
    "        print(items[i])\n",
    "\n",
    "print_items(['a', 'b', 'c'])"
   ]
  }
 ],
 "metadata": {},
 "nbformat": 4,
 "nbformat_minor": 5
}
