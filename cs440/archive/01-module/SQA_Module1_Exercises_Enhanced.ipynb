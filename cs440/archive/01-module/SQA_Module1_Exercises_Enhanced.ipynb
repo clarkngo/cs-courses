{
 "cells": [
  {
   "cell_type": "markdown",
   "id": "9f7ad4fa",
   "metadata": {},
   "source": [
    "# 🧪 Module 1: Python Code Exercise\n",
    "**Topic:** Detecting and Fixing Software Faults"
   ]
  },
  {
   "cell_type": "markdown",
   "id": "e683494c",
   "metadata": {},
   "source": [
    "## 📘 What This Module Is About\n",
    "\n",
    "In this module, you will learn how to identify and correct different types of software faults in Python code—namely **errors**, **defects**, and **failures**. These concepts are core to Software Quality Assurance (SQA), helping engineers ensure that software is reliable, maintainable, and bug-free before it reaches users.\n",
    "\n",
    "### ❓ Why This Is Important\n",
    "Software faults, whether introduced during design, development, or deployment, can lead to costly failures, user dissatisfaction, or even security breaches. By practicing fault detection and correction, you'll develop habits for writing cleaner, safer, and more robust code. Understanding how to fix faults early also saves time, effort, and money in long-term development cycles.\n"
   ]
  },
  {
   "cell_type": "markdown",
   "id": "bf0a0496",
   "metadata": {},
   "source": [
    "## 🎯 Objective\n",
    "Identify and fix software faults classified as **errors**, **defects**, or **failures** based on real-world Python examples."
   ]
  },
  {
   "cell_type": "markdown",
   "id": "f76d8931",
   "metadata": {},
   "source": [
    "## 🧠 Examples\n",
    "Each example shows faulty code followed by a corrected version. Pay attention to the type of fault and how it was addressed."
   ]
  },
  {
   "cell_type": "markdown",
   "id": "d2058148",
   "metadata": {},
   "source": [
    "### Example 1: Assignment instead of comparison (Error)"
   ]
  },
  {
   "cell_type": "code",
   "execution_count": null,
   "id": "2d8767c0",
   "metadata": {},
   "outputs": [],
   "source": [
    "def is_positive(n):\n",
    "    if n = 0:\n",
    "        return True\n",
    "    return False\n",
    "\n",
    "print(is_positive(5))"
   ]
  },
  {
   "cell_type": "markdown",
   "id": "3f6e4e78",
   "metadata": {},
   "source": [
    "✅ **Fix:**"
   ]
  },
  {
   "cell_type": "code",
   "execution_count": null,
   "id": "21b1e92f",
   "metadata": {},
   "outputs": [],
   "source": [
    "def is_positive(n):\n",
    "    if n == 0:\n",
    "        return True\n",
    "    return False\n",
    "\n",
    "print(is_positive(5))"
   ]
  },
  {
   "cell_type": "markdown",
   "id": "33283781",
   "metadata": {},
   "source": [
    "### Example 2: Division by zero (Failure)"
   ]
  },
  {
   "cell_type": "code",
   "execution_count": null,
   "id": "946bed05",
   "metadata": {},
   "outputs": [],
   "source": [
    "def compute_average(total, count):\n",
    "    return total / count\n",
    "\n",
    "print(compute_average(100, 0))"
   ]
  },
  {
   "cell_type": "markdown",
   "id": "799e2864",
   "metadata": {},
   "source": [
    "✅ **Fix:**"
   ]
  },
  {
   "cell_type": "code",
   "execution_count": null,
   "id": "a497108b",
   "metadata": {},
   "outputs": [],
   "source": [
    "def compute_average(total, count):\n",
    "    if count == 0:\n",
    "        return \"Undefined\"\n",
    "    return total / count\n",
    "\n",
    "print(compute_average(100, 0))"
   ]
  },
  {
   "cell_type": "markdown",
   "id": "055d7d6f",
   "metadata": {},
   "source": [
    "### Example 3: Type mismatch (Defect)"
   ]
  },
  {
   "cell_type": "code",
   "execution_count": null,
   "id": "53db0bff",
   "metadata": {},
   "outputs": [],
   "source": [
    "def total_cost(price, quantity):\n",
    "    return price * quantity\n",
    "\n",
    "print(total_cost(\"100\", 2))"
   ]
  },
  {
   "cell_type": "markdown",
   "id": "e17f6631",
   "metadata": {},
   "source": [
    "✅ **Fix:**"
   ]
  },
  {
   "cell_type": "code",
   "execution_count": null,
   "id": "89ab3861",
   "metadata": {},
   "outputs": [],
   "source": [
    "def total_cost(price, quantity):\n",
    "    return float(price) * quantity\n",
    "\n",
    "print(total_cost(\"100\", 2))"
   ]
  },
  {
   "cell_type": "markdown",
   "id": "0b4fdbd1",
   "metadata": {},
   "source": [
    "### Example 4: Logic error in loop (Error)"
   ]
  },
  {
   "cell_type": "code",
   "execution_count": null,
   "id": "66d2d395",
   "metadata": {},
   "outputs": [],
   "source": [
    "def find_max(nums):\n",
    "    max = 0\n",
    "    for num in nums:\n",
    "        if num < max:\n",
    "            max = num\n",
    "    return max\n",
    "\n",
    "print(find_max([3, 7, 2]))"
   ]
  },
  {
   "cell_type": "markdown",
   "id": "da724481",
   "metadata": {},
   "source": [
    "✅ **Fix:**"
   ]
  },
  {
   "cell_type": "code",
   "execution_count": null,
   "id": "f73b0367",
   "metadata": {},
   "outputs": [],
   "source": [
    "def find_max(nums):\n",
    "    max = nums[0]\n",
    "    for num in nums:\n",
    "        if num > max:\n",
    "            max = num\n",
    "    return max\n",
    "\n",
    "print(find_max([3, 7, 2]))"
   ]
  },
  {
   "cell_type": "markdown",
   "id": "7ca2fda5",
   "metadata": {},
   "source": [
    "### Example 5: Off-by-one indexing (Error)"
   ]
  },
  {
   "cell_type": "code",
   "execution_count": null,
   "id": "dc6dafae",
   "metadata": {},
   "outputs": [],
   "source": [
    "def print_list(items):\n",
    "    for i in range(len(items)):\n",
    "        print(items[i+1])\n",
    "\n",
    "print_list([\"apple\", \"banana\", \"cherry\"])"
   ]
  },
  {
   "cell_type": "markdown",
   "id": "64b70a4f",
   "metadata": {},
   "source": [
    "✅ **Fix:**"
   ]
  },
  {
   "cell_type": "code",
   "execution_count": null,
   "id": "47daa31e",
   "metadata": {},
   "outputs": [],
   "source": [
    "def print_list(items):\n",
    "    for i in range(len(items)):\n",
    "        print(items[i])\n",
    "\n",
    "print_list([\"apple\", \"banana\", \"cherry\"])"
   ]
  },
  {
   "cell_type": "markdown",
   "id": "c7822fe9",
   "metadata": {},
   "source": [
    "## 📝 Exercises\n",
    "Analyze and fix the following code snippets. Identify the type of fault and apply the appropriate fix."
   ]
  },
  {
   "cell_type": "markdown",
   "id": "bffae21c",
   "metadata": {},
   "source": [
    "### Exercise 1"
   ]
  },
  {
   "cell_type": "code",
   "execution_count": null,
   "id": "01619ca2",
   "metadata": {},
   "outputs": [],
   "source": [
    "def multiply(a, b):\n",
    "    return a *\n",
    "\n",
    "print(multiply(3, 4))"
   ]
  },
  {
   "cell_type": "markdown",
   "id": "4c1b222b",
   "metadata": {},
   "source": [
    "### Exercise 2"
   ]
  },
  {
   "cell_type": "code",
   "execution_count": null,
   "id": "adc66b1a",
   "metadata": {},
   "outputs": [],
   "source": [
    "def say_hello(name):\n",
    "    if name = \"\":\n",
    "        return \"Hi\"\n",
    "    return \"Hello, \" + name\n",
    "\n",
    "print(say_hello(\"Alice\"))"
   ]
  },
  {
   "cell_type": "markdown",
   "id": "f3ab5500",
   "metadata": {},
   "source": [
    "### Exercise 3"
   ]
  },
  {
   "cell_type": "code",
   "execution_count": null,
   "id": "dc18e4eb",
   "metadata": {},
   "outputs": [],
   "source": [
    "def calc_area(radius):\n",
    "    return 3.14 * radius * radus\n",
    "\n",
    "print(calc_area(5))"
   ]
  },
  {
   "cell_type": "markdown",
   "id": "06c46d03",
   "metadata": {},
   "source": [
    "### Exercise 4"
   ]
  },
  {
   "cell_type": "code",
   "execution_count": null,
   "id": "a855d9a2",
   "metadata": {},
   "outputs": [],
   "source": [
    "def list_sum(lst):\n",
    "    sum = 0\n",
    "    for i in range(1, len(lst)):\n",
    "        sum += lst[i]\n",
    "    return sum\n",
    "\n",
    "print(list_sum([1, 2, 3, 4]))"
   ]
  },
  {
   "cell_type": "markdown",
   "id": "130b90bf",
   "metadata": {},
   "source": [
    "### Exercise 5"
   ]
  },
  {
   "cell_type": "code",
   "execution_count": null,
   "id": "089ef031",
   "metadata": {},
   "outputs": [],
   "source": [
    "def divide(a, b):\n",
    "    return a / b\n",
    "\n",
    "print(divide(5, 0))"
   ]
  },
  {
   "cell_type": "markdown",
   "id": "5684a03d",
   "metadata": {},
   "source": [
    "## 📏 PEP 8: Python Style Guide (Quick Summary)\n",
    "\n",
    "Following the PEP 8 style guide ensures that your code is readable, consistent, and maintainable.\n",
    "\n",
    "### Key Guidelines:\n",
    "- Use 4 spaces per indentation level.\n",
    "- Limit lines to 79 characters.\n",
    "- Use blank lines to separate functions and classes.\n",
    "- Use lowercase_with_underscores for function and variable names.\n",
    "- Keep imports at the top of the file.\n",
    "- Use `is` or `is not` for comparisons to `None`.\n",
    "- Always include spaces around operators (`a = b + 1`).\n",
    "- Add comments to explain *why*, not *what* the code is doing.\n",
    "- Use docstrings for all public modules, functions, classes, and methods.\n",
    "\n",
    "Practicing clean coding habits early will help reduce faults and improve the quality of your software.\n",
    "\n",
    "For full details: https://peps.python.org/pep-0008/\n"
   ]
  }
 ],
 "metadata": {},
 "nbformat": 4,
 "nbformat_minor": 5
}
