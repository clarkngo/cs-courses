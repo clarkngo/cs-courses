{
 "cells": [
  {
   "cell_type": "markdown",
   "id": "818356ec",
   "metadata": {},
   "source": [
    "# 🧪 Module 1: Python Code Exercise\n",
    "**Topic:** Detecting and Fixing Software Faults\n",
    "\n",
    "### 🎯 Objective:\n",
    "Analyze Python code to identify and fix software faults classified as errors, defects, or failures."
   ]
  },
  {
   "cell_type": "markdown",
   "id": "25781604",
   "metadata": {},
   "source": [
    "### 🧠 Example"
   ]
  },
  {
   "cell_type": "code",
   "execution_count": null,
   "id": "4d1f735a",
   "metadata": {},
   "outputs": [],
   "source": [
    "def is_even(num):\n",
    "    if num % 2 = 0:\n",
    "        return True\n",
    "    else:\n",
    "        return False"
   ]
  },
  {
   "cell_type": "markdown",
   "id": "3fc9b013",
   "metadata": {},
   "source": [
    "✅ **Fix:**"
   ]
  },
  {
   "cell_type": "code",
   "execution_count": null,
   "id": "402ff0eb",
   "metadata": {},
   "outputs": [],
   "source": [
    "def is_even(num):\n",
    "    if num % 2 == 0:\n",
    "        return True\n",
    "    else:\n",
    "        return False"
   ]
  },
  {
   "cell_type": "markdown",
   "id": "4dd059ee",
   "metadata": {},
   "source": [
    "### 📝 Exercise 1: Classification and Fixing\n",
    "Analyze the code below. For each, classify the issue and fix the code."
   ]
  },
  {
   "cell_type": "markdown",
   "id": "118a99be",
   "metadata": {},
   "source": [
    "#### Code a"
   ]
  },
  {
   "cell_type": "code",
   "execution_count": null,
   "id": "1ce3341b",
   "metadata": {},
   "outputs": [],
   "source": [
    "def divide_numbers(a, b):\n",
    "    return a / b\n",
    "\n",
    "print(divide_numbers(10, 0))"
   ]
  },
  {
   "cell_type": "markdown",
   "id": "5e2b8f96",
   "metadata": {},
   "source": [
    "#### Code b"
   ]
  },
  {
   "cell_type": "code",
   "execution_count": null,
   "id": "ccc769ab",
   "metadata": {},
   "outputs": [],
   "source": [
    "def greet_user(name):\n",
    "    if name = \"\":\n",
    "        return \"Hello, guest!\"\n",
    "    return \"Hello, \" + name"
   ]
  },
  {
   "cell_type": "markdown",
   "id": "7d210cc3",
   "metadata": {},
   "source": [
    "#### Code c"
   ]
  },
  {
   "cell_type": "code",
   "execution_count": null,
   "id": "51003af8",
   "metadata": {},
   "outputs": [],
   "source": [
    "def apply_discount(price, discount):\n",
    "    return price - (price * discount / 100)\n",
    "\n",
    "print(apply_discount(100, \"20\"))"
   ]
  }
 ],
 "metadata": {},
 "nbformat": 4,
 "nbformat_minor": 5
}
