{
 "cells": [
  {
   "cell_type": "markdown",
   "id": "9288749b",
   "metadata": {},
   "source": [
    "# ✅ Answer Key: Module 2 – Non-Functional Requirements & Code Improvement"
   ]
  },
  {
   "cell_type": "markdown",
   "id": "e7ad94ac",
   "metadata": {},
   "source": [
    "### Exercise 1\n",
    "**Issue:** Inefficient checking for duplicates using a nested loop (O(n²) time complexity)."
   ]
  },
  {
   "cell_type": "code",
   "execution_count": 1,
   "id": "09140cc1",
   "metadata": {},
   "outputs": [
    {
     "name": "stdout",
     "output_type": "stream",
     "text": [
      "True\n"
     ]
    }
   ],
   "source": [
    "def find_duplicates(lst):\n",
    "    seen = set()\n",
    "    for i in lst:\n",
    "        if i in seen:\n",
    "            return True\n",
    "        seen.add(i)\n",
    "    return False\n",
    "\n",
    "print(find_duplicates([1, 2, 3, 4, 5, 1]))"
   ]
  },
  {
   "cell_type": "markdown",
   "id": "339e8f8a",
   "metadata": {},
   "source": [
    "### Exercise 2\n",
    "**Issue:** Security risk using `eval()` to evaluate user input."
   ]
  },
  {
   "cell_type": "code",
   "execution_count": null,
   "id": "2c043013",
   "metadata": {},
   "outputs": [
    {
     "name": "stdout",
     "output_type": "stream",
     "text": [
      "123\n"
     ]
    }
   ],
   "source": [
    "import ast\n",
    "\n",
    "def execute_expression(expr):\n",
    "    try:\n",
    "        return ast.literal_eval(expr)\n",
    "    except Exception as e:\n",
    "        return f\"Error: {e}\"\n",
    "\n",
    "print(execute_expression(\"os.system('rm -rf /')\"))"
   ]
  },
  {
   "cell_type": "markdown",
   "id": "e96a0ae1",
   "metadata": {},
   "source": [
    "### Exercise 3\n",
    "**Issue:** Hardcoded values for `host` and `port` reduce flexibility and maintainability."
   ]
  },
  {
   "cell_type": "code",
   "execution_count": 3,
   "id": "fe7fcd17",
   "metadata": {},
   "outputs": [
    {
     "name": "stdout",
     "output_type": "stream",
     "text": [
      "Connecting to localhost:3306\n"
     ]
    }
   ],
   "source": [
    "HOST = 'localhost'\n",
    "PORT = 3306\n",
    "\n",
    "def connect():\n",
    "    print(f\"Connecting to {HOST}:{PORT}\")\n",
    "\n",
    "connect()"
   ]
  },
  {
   "cell_type": "markdown",
   "id": "0984d48e",
   "metadata": {},
   "source": [
    "### Exercise 4\n",
    "**Issue:** Unnecessary and redundant check `if val == True`."
   ]
  },
  {
   "cell_type": "code",
   "execution_count": 4,
   "id": "f26d8e36",
   "metadata": {},
   "outputs": [
    {
     "name": "stdout",
     "output_type": "stream",
     "text": [
      "True\n"
     ]
    }
   ],
   "source": [
    "def is_true(val):\n",
    "    return val is True\n",
    "\n",
    "print(is_true(True))"
   ]
  },
  {
   "cell_type": "markdown",
   "id": "a15650c0",
   "metadata": {},
   "source": [
    "### Exercise 5\n",
    "**Issue:** Accessing a missing key in a dictionary could cause a KeyError. Adding a fallback value avoids this."
   ]
  },
  {
   "cell_type": "code",
   "execution_count": 5,
   "id": "1066aa14",
   "metadata": {},
   "outputs": [
    {
     "name": "stdout",
     "output_type": "stream",
     "text": [
      "en\n"
     ]
    }
   ],
   "source": [
    "def get_user_language(user):\n",
    "    return user.get('language', 'en')\n",
    "\n",
    "print(get_user_language({'name': 'Alice'}))"
   ]
  }
 ],
 "metadata": {
  "kernelspec": {
   "display_name": "Python 3 (ipykernel)",
   "language": "python",
   "name": "python3"
  },
  "language_info": {
   "codemirror_mode": {
    "name": "ipython",
    "version": 3
   },
   "file_extension": ".py",
   "mimetype": "text/x-python",
   "name": "python",
   "nbconvert_exporter": "python",
   "pygments_lexer": "ipython3",
   "version": "3.12.1"
  }
 },
 "nbformat": 4,
 "nbformat_minor": 5
}
