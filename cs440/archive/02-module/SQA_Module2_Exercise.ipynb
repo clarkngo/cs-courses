{
 "cells": [
  {
   "cell_type": "markdown",
   "id": "04f1badb",
   "metadata": {},
   "source": [
    "# 🧪 Module 2: Python Code Exercise\n",
    "**Topic:** Requirements & Trade-Offs in Code Implementation\n",
    "\n",
    "### 🎯 Objective:\n",
    "Rewrite or fix Python code to meet non-functional requirements like performance, security, and maintainability."
   ]
  },
  {
   "cell_type": "markdown",
   "id": "9fd84452",
   "metadata": {},
   "source": [
    "### 🧠 Example"
   ]
  },
  {
   "cell_type": "code",
   "execution_count": null,
   "id": "d0c12b6e",
   "metadata": {},
   "outputs": [],
   "source": [
    "def login(user_input):\n",
    "    query = \"SELECT * FROM users WHERE name = '\" + user_input + \"'\"\n",
    "    return query"
   ]
  },
  {
   "cell_type": "markdown",
   "id": "873f9f82",
   "metadata": {},
   "source": [
    "✅ **Fix:**"
   ]
  },
  {
   "cell_type": "code",
   "execution_count": null,
   "id": "e2906abc",
   "metadata": {},
   "outputs": [],
   "source": [
    "def login(user_input):\n",
    "    query = \"SELECT * FROM users WHERE name = %s\"\n",
    "    return query, (user_input,)"
   ]
  },
  {
   "cell_type": "markdown",
   "id": "781c7a90",
   "metadata": {},
   "source": [
    "### 📝 Exercise 1: Code Rewrite for Non-Functional Requirements"
   ]
  },
  {
   "cell_type": "markdown",
   "id": "c7cf2697",
   "metadata": {},
   "source": [
    "#### Code a: Performance Requirement"
   ]
  },
  {
   "cell_type": "code",
   "execution_count": null,
   "id": "67c11a56",
   "metadata": {},
   "outputs": [],
   "source": [
    "def find_duplicate(numbers):\n",
    "    for i in numbers:\n",
    "        if numbers.count(i) > 1:\n",
    "            return i"
   ]
  },
  {
   "cell_type": "markdown",
   "id": "1ca2af05",
   "metadata": {},
   "source": [
    "#### Code b: Security Requirement"
   ]
  },
  {
   "cell_type": "code",
   "execution_count": null,
   "id": "3fdd5035",
   "metadata": {},
   "outputs": [],
   "source": [
    "def calculate(expression):\n",
    "    return eval(expression)"
   ]
  },
  {
   "cell_type": "markdown",
   "id": "a9a13c27",
   "metadata": {},
   "source": [
    "#### Code c: Maintainability Requirement"
   ]
  },
  {
   "cell_type": "code",
   "execution_count": null,
   "id": "d38cf2e4",
   "metadata": {},
   "outputs": [],
   "source": [
    "def send_email(to):\n",
    "    smtp_server = \"smtp.example.com\"\n",
    "    port = 587\n",
    "    # ... send email ..."
   ]
  }
 ],
 "metadata": {},
 "nbformat": 4,
 "nbformat_minor": 5
}
