{
 "metadata": {
  "language_info": {
   "codemirror_mode": {
    "name": "ipython",
    "version": 3
   },
   "file_extension": ".py",
   "mimetype": "text/x-python",
   "name": "python",
   "nbconvert_exporter": "python",
   "pygments_lexer": "ipython3",
   "version": "3.8.5-final"
  },
  "orig_nbformat": 2,
  "kernelspec": {
   "name": "python3",
   "display_name": "Python 3"
  }
 },
 "nbformat": 4,
 "nbformat_minor": 2,
 "cells": [
  {
   "cell_type": "code",
   "execution_count": 1,
   "metadata": {},
   "outputs": [],
   "source": [
    "from PIL import ImageColor, Image, ImageDraw, ImageFilter\n"
   ]
  },
  {
   "cell_type": "code",
   "execution_count": 2,
   "metadata": {},
   "outputs": [
    {
     "output_type": "stream",
     "name": "stdout",
     "text": [
      "(255, 0, 0, 255)\n"
     ]
    }
   ],
   "source": [
    "print(ImageColor.getcolor('red', 'RGBA'))\n"
   ]
  },
  {
   "cell_type": "code",
   "execution_count": 6,
   "metadata": {},
   "outputs": [],
   "source": [
    "img = Image.new(\"RGB\", (500, 500), (173, 216, 230))\n",
    "img.show()"
   ]
  },
  {
   "cell_type": "code",
   "execution_count": 30,
   "metadata": {},
   "outputs": [],
   "source": [
    "img = Image.new(\"RGBA\", (500, 500), (255, 0, 0, 32))\n",
    "img.show()\n",
    "img.save('./a32.jpg')\n",
    "img.save('./a32.gif')\n",
    "img.save('./a32.png') # has the alpha information (opaque)"
   ]
  },
  {
   "cell_type": "code",
   "execution_count": 41,
   "metadata": {},
   "outputs": [],
   "source": [
    "img = Image.open('lena.jpg')\n",
    "img.mode\n",
    "# Lets resize the input image by x3\n",
    "x, y = img.size\n",
    "mag = 3\n",
    "newsize = (mag*x, mag*y)\n",
    "img.resize(newsize).show()\n",
    "\n",
    "# usage: thumbnail(size, resample=3) requested size, resample = OPTIONAL BILINEAR, BICUBIC, NEAREST\n",
    "# the method modifies the image itself (watch out for artifacts)\n",
    "# Here is a more Pythonic way to do this.\n",
    "newsize = tuple(size/2 for size in img.size)\n",
    "img.thumbnail(newsize) \n",
    "img.save('thumb.jpeg')\n",
    "\n",
    "newsize = tuple(size*mag for size in img.size)\n",
    "img.resize(newsize).show()\n",
    "\n",
    "x1 = 300\n",
    "y1 = 20\n",
    "x2 = 800\n",
    "y2 = 500\n",
    "img1 = img.resize(newsize).crop((x1, y1, x2, y2)).rotate(-45)\n",
    "img1.show()\n",
    "img1.save('./r.jpg')\n",
    "img1.save('./r10.jpg', quality=5)\n",
    "img1.save('./r50.jpg', quality=10)\n",
    "img1.save('./r50.jpg', quality=50)\n",
    "img1.save('./r100.jpg', quality=100)\n"
   ]
  },
  {
   "cell_type": "code",
   "execution_count": 33,
   "metadata": {},
   "outputs": [],
   "source": [
    "img = Image.open('lena.jpg')\n",
    "# reading a pixel data\n",
    "img.getpixel((0,0)) \n",
    "# There are 2 ways obtain the pixel values in the image (read/write)\n",
    "# 1. getpixel()/putpixel()\n",
    "w, h = img.size\n",
    "for x in range(h):\n",
    "    img.putpixel((x, x), (0, 0, 0, 255))\n",
    "\n",
    "# 2. using a PixelAccess obj to easy access []\n",
    "imgpx = img.load() #Load image data based on sequence of data in a list [x,y]\n",
    "imgpx[0, 0]\n",
    "# you can also write the values to the image\n",
    "for x in range(h):\n",
    "    imgpx[x, 100] = (255, 0, 0)\n",
    "img.show()\n"
   ]
  },
  {
   "cell_type": "code",
   "execution_count": 35,
   "metadata": {},
   "outputs": [],
   "source": [
    "# updating a jpg and adding opaque then save it into PNG format\n",
    "img = Image.open('lena.jpg')\n",
    "ima = img.copy()\n",
    "ima.show()\n",
    "img.putalpha(128)\n",
    "img.show()\n",
    "img.save('./lena_a.png')"
   ]
  },
  {
   "cell_type": "code",
   "execution_count": 37,
   "metadata": {},
   "outputs": [],
   "source": [
    "# -- let's now composite 2 images with transparency control\n",
    "# let's look at the composite method\n",
    "# Image.composite(i1, i2, msk): Create composite image by blending images using a transparency mask.\n",
    "# image 1 + image 2 + mask image(-> blending weight)\n",
    "im1 = Image.open('./megryan.jpg')                  # base image\n",
    "im2 = Image.open('./seattle.jpg').resize(im1.size) # new image\n",
    "\n",
    "import numpy\n",
    "# creates a new image by interpolating between two input images, using a constant alpha.\n",
    "Image.blend(im1, im2, 0.5)\n",
    "# out = image1 * (1.0 - alpha) + image2 * alpha\n",
    "\n",
    "for i in numpy.arange(0, 1.2, 0.2):\n",
    "    img = Image.blend(im1, im2, i)\n",
    "    img.show()\n",
    "\n",
    "# create a mask with grayscale image\n",
    "mask = Image.new(\"L\", im1.size, 128) # 'L'=8-bit pixels, black and white\n",
    "imcomp = Image.composite(im1, im2, mask) # mask = weight\n"
   ]
  },
  {
   "cell_type": "code",
   "execution_count": 38,
   "metadata": {},
   "outputs": [],
   "source": [
    "\n",
    "# -- Let's add look at a shape\n",
    "mask = Image.new(\"L\", im1.size, 0) # \n",
    "# The ImageDraw module provides simple 2D graphics for Image objects. \n",
    "# You can use this module to create new images, annotate or retouch \n",
    "# existing images, and to generate graphics on the fly for web use.\n",
    "# https://pillow.readthedocs.io/en/stable/reference/ImageDraw.html\n",
    "draw = ImageDraw.Draw(mask)\n",
    "draw.ellipse((180, 26, 320, 173), fill=255) # [(x0, y0, x1, y1]\n",
    "mask.show() # show the mask image\n",
    "\n",
    "# composite thru mask image (weight factor per pixel)\n",
    "im = Image.composite(im1, im2, mask) # im = im1 * mask + im2\n",
    "\n",
    "# In order to make the border smooth, we can use some of the ImageFilter module\n",
    "mask_blur = mask.filter(ImageFilter.GaussianBlur(20))\n",
    "mask_blur.show()\n",
    "im = Image.composite(im1, im2, mask_blur)\n",
    "im.show()\n",
    "\n"
   ]
  },
  {
   "cell_type": "code",
   "execution_count": 43,
   "metadata": {},
   "outputs": [
    {
     "output_type": "stream",
     "name": "stdout",
     "text": [
      "PNG 816 1088 (816, 1088) RGB\n"
     ]
    }
   ],
   "source": [
    "# - Let's now crop and create a sub-image\n",
    "#   And save to a different image format \n",
    "im = Image.open('zophie.png') \n",
    "# a quick way to see an image on the disk Image.open('zophie.png').show()\n",
    "im.format\n",
    "im.format_description\n",
    "print(im.format, im.width, im.height, im.size, im.mode)\n",
    "box = (340,338,568,579)\n",
    "# Verify the cropped image\n",
    "im.crop(box).show()\n",
    "im_crop = im.crop(box)\n",
    "# Save it to different formats\n",
    "im_crop.save('cropped.png')\n",
    "im_crop.save('cropped.ppm')\n",
    "im_crop.save('cropped.bmp')\n",
    "im_crop.save('cropped.gif')\n"
   ]
  },
  {
   "cell_type": "code",
   "execution_count": 42,
   "metadata": {},
   "outputs": [],
   "source": [
    "# crop out and create a subimage, then paste into a certain location\n",
    "catIm = Image.open('zophie.png')\n",
    "catCopyIm = catIm.copy()\n",
    "box = (340,338,568,579)\n",
    "catFaceIm = catCopyIm.crop(box)\n",
    "# target.paste\n",
    "catCopyIm.paste(catFaceIm, (0, 0))\n",
    "# at this point, catCopyIm has pasted face image\n",
    "catCopyIm.show()\n"
   ]
  },
  {
   "cell_type": "code",
   "execution_count": 49,
   "metadata": {},
   "outputs": [
    {
     "output_type": "stream",
     "name": "stdout",
     "text": [
      "0 0\n0 241\n0 482\n0 723\n0 964\n163 0\n163 241\n163 482\n163 723\n163 964\n326 0\n326 241\n326 482\n326 723\n326 964\n489 0\n489 241\n489 482\n489 723\n489 964\n652 0\n652 241\n652 482\n652 723\n652 964\n815 0\n815 241\n815 482\n815 723\n815 964\n"
     ]
    }
   ],
   "source": [
    "\n",
    "# Making a tile image and rotation\n",
    "catIm = Image.open('zophie.png')\n",
    "box = (360,338,523,579) # 360 + (816/5=163) = 523\n",
    "catFaceIm = catIm.crop(box)\n",
    "catImWidth, catImHeight = catIm.size\n",
    "catFaceImWidth, catFaceImHeight = catFaceIm.size\n",
    "# Since this paste operation will modify the target image, need a copy.\n",
    "catCopyImTile = catIm.copy()\n",
    "i = 0\n",
    "for x in range(0, catImWidth, catFaceImWidth):\n",
    "    for y in range(0, catImHeight, catFaceImHeight):\n",
    "        print(x, y)\n",
    "        catCopyImTile.paste(catFaceIm, (x, y))\n",
    "        catCopyImTile.paste(catFaceIm.rotate(10*i), (x, y))\n",
    "        i += 1\n",
    "catCopyImTile.show()    \n"
   ]
  },
  {
   "cell_type": "code",
   "execution_count": 53,
   "metadata": {},
   "outputs": [],
   "source": [
    "\n",
    "def create_image_with_ball(width, height, ball_x, ball_y, ball_size):\n",
    "    # create a white background\n",
    "    img = Image.new('RGB', (width, height), (255, 255, 255))\n",
    "    draw = ImageDraw.Draw(img)\n",
    "    # draw.ellipse takes a 4-tuple (x0, y0, x1, y1) where (x0, y0) is the top-left bound of the box\n",
    "    # and (x1, y1) is the lower-right bound of the box.\n",
    "    draw.ellipse((ball_x, ball_y, ball_x + ball_size, ball_y + ball_size), fill='red')\n",
    "    return img\n",
    "\n",
    "# Create the frames\n",
    "frames = []\n",
    "x, y = 0, 0\n",
    "for i in range(20):\n",
    "    new_frame = create_image_with_ball(400, 400, x, y, 80)\n",
    "    # new_frame = create_image_with_ball(400, 400, x, y, 400/(i+1)) # 3D effect going away from me trajectory\n",
    "    frames.append(new_frame)\n",
    "    x += 20\n",
    "    y += 20\n",
    "\n",
    "# Save into a GIF file that loops forever\n",
    "frames[0].save('moving.gif', format='GIF', append_images=frames[1:], save_all=True, duration=100)"
   ]
  },
  {
   "cell_type": "code",
   "execution_count": 61,
   "metadata": {},
   "outputs": [],
   "source": [
    "# Let's make an animated gif file.\n",
    "# Imagine that you have a field of view from the camera (200 X 200), and it scans thru \n",
    "# a diagonal path, and display them on as an animated gif.\n",
    "catIm = Image.open('zophie.png')\n",
    "box = (0, 0, 200, 200)\n",
    "\n",
    "# Create the frames\n",
    "frames = []\n",
    "x, y = 0, 0\n",
    "for i in range(0, catIm.width-200, 10):\n",
    "    new_frame = catIm.crop(box) \n",
    "    frames.append(new_frame)\n",
    "    box = tuple(x + 10 for x in box)\n",
    "# Save into a GIF file that loops forever\n",
    "frames[0].save('moving_cat.gif', format='GIF', append_images=frames[1:], save_all=True, duration=100)\n"
   ]
  },
  {
   "cell_type": "code",
   "execution_count": null,
   "metadata": {},
   "outputs": [],
   "source": [
    "# 1. open an image\n",
    "# 2. crop the cat's face using box tuple (x0, y0, x1, y1) with crop() then store it into another Image object\n",
    "# 3. create the frames starting with empty frame\n",
    "# 4. rotate 360 by 1 degree using range() followed by (1) rotate() and (2) append the frames\n",
    "# 5. save the frames using format=GIF, append_images, save_all, duration to control the frame rate\n"
   ]
  },
  {
   "cell_type": "code",
   "execution_count": 65,
   "metadata": {},
   "outputs": [],
   "source": [
    "# Let's make an animated gif file.\n",
    "# Imagine that you have a field of view from the camera (200 X 200), and it scans thru \n",
    "# a diagonal path, and display them on as an animated gif.\n",
    "catIm = Image.open('zophie.png')\n",
    "box = (360,338,523,579) # 360 + (816/5=163) = 523\n",
    "catFaceIm = catIm.crop(box)\n",
    "\n",
    "# Create the frames\n",
    "frames = []\n",
    "for i in range(0, 360):\n",
    "    new_frame = catFaceIm.rotate(i) \n",
    "    frames.append(new_frame)\n",
    "    \n",
    "# Save into a GIF file that loops forever\n",
    "frames[0].save('rotating_cat.gif', format='GIF', append_images=frames[1:], save_all=True, duration=10)"
   ]
  },
  {
   "cell_type": "code",
   "execution_count": null,
   "metadata": {},
   "outputs": [],
   "source": []
  }
 ]
}