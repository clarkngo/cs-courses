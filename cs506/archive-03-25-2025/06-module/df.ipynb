{
 "metadata": {
  "language_info": {
   "codemirror_mode": {
    "name": "ipython",
    "version": 3
   },
   "file_extension": ".py",
   "mimetype": "text/x-python",
   "name": "python",
   "nbconvert_exporter": "python",
   "pygments_lexer": "ipython3",
   "version": "3.8.5-final"
  },
  "orig_nbformat": 2,
  "kernelspec": {
   "name": "python37432bit80c26e91aa5342b6a45f29fb0f717363",
   "display_name": "Python 3.7.4 32-bit"
  }
 },
 "nbformat": 4,
 "nbformat_minor": 2,
 "cells": [
  {
   "cell_type": "code",
   "execution_count": 7,
   "metadata": {},
   "outputs": [
    {
     "output_type": "execute_result",
     "data": {
      "text/plain": [
       "10"
      ]
     },
     "metadata": {},
     "execution_count": 7
    }
   ],
   "source": [
    "import pandas as pd\n",
    "import numpy as np\n",
    "#  Two-dimensional, size-mutable, potentially heterogeneous tabular data.\n",
    "#  Data structure also contains labeled axes (rows and columns).\n",
    "#  Arithmetic operations align on both row and column labels. Can be\n",
    "#  thought of as a dict-like container for Series objects. The primary\n",
    "#  pandas data structure.\n",
    "\n",
    "# creating values for each column using a dict format\n",
    "df = pd.DataFrame({\"a\" : [4 ,5, 6],\n",
    "                   \"b\" : [7, 8, 9],\n",
    "                   \"c\" : [10, 11, 12]},\n",
    "                    index = [1, 2, 3]) # <- loc, df.index.values[]\n",
    "df\n",
    "df.size\n",
    "df.shape\n",
    "df.columns # column labels\n",
    "df.index   # row labels\n",
    "df.describe()\n",
    "\n",
    "df['a']\n",
    "df[['a', 'c']]    # multiple columns\n",
    "df.c\n",
    "df.a\n",
    "df[1:3]           # multiple rows\n",
    "df.at[2, \"b\"] = 0 # Access a single value for a row/column label pair.\n",
    "df.iat[2, 1]      # Access a single value for a row/column pair by integer position.\n",
    "df.loc[2]         # Access a group of rows and columns by integer position\n",
    "df.loc[1:2]       \n",
    "df.loc[:]         \n",
    "df.iloc[1]        # Access a group of rows and columns by integer position(s)\n",
    "df.iloc[2:3]      # zero index for iat and iloc\n",
    "df.loc[1].at['c']\n",
    "# Note using ``[[]]`` returns a DataFrame\n",
    "df.loc[[1,3]]  # df.loc[2:3] -> multiple rows (random or seq.)\n",
    "df.iloc[:, 2]     # column data (all rows, 3rd col)\n",
    "df.iloc[:, 2].name # its column label\n",
    "df.loc[df['c'] > 10] # display the rows if col = 'c' greater than 10\n",
    "\n",
    "# class question - print 4 elements on the bottom right section using both iloc, loc\n",
    "df.iloc[1:3, 1:3]\n",
    "df.loc[[2,3], ['b', 'c']]\n",
    "\n"
   ]
  },
  {
   "cell_type": "code",
   "execution_count": 14,
   "metadata": {},
   "outputs": [
    {
     "output_type": "execute_result",
     "data": {
      "text/plain": [
       "   a  b   c  a  b   c\n",
       "1  4  7  10  4  7  10\n",
       "2  5  8  11  5  8  11\n",
       "3  6  9  12  6  9  12"
      ],
      "text/html": "<div>\n<style scoped>\n    .dataframe tbody tr th:only-of-type {\n        vertical-align: middle;\n    }\n\n    .dataframe tbody tr th {\n        vertical-align: top;\n    }\n\n    .dataframe thead th {\n        text-align: right;\n    }\n</style>\n<table border=\"1\" class=\"dataframe\">\n  <thead>\n    <tr style=\"text-align: right;\">\n      <th></th>\n      <th>a</th>\n      <th>b</th>\n      <th>c</th>\n      <th>a</th>\n      <th>b</th>\n      <th>c</th>\n    </tr>\n  </thead>\n  <tbody>\n    <tr>\n      <th>1</th>\n      <td>4</td>\n      <td>7</td>\n      <td>10</td>\n      <td>4</td>\n      <td>7</td>\n      <td>10</td>\n    </tr>\n    <tr>\n      <th>2</th>\n      <td>5</td>\n      <td>8</td>\n      <td>11</td>\n      <td>5</td>\n      <td>8</td>\n      <td>11</td>\n    </tr>\n    <tr>\n      <th>3</th>\n      <td>6</td>\n      <td>9</td>\n      <td>12</td>\n      <td>6</td>\n      <td>9</td>\n      <td>12</td>\n    </tr>\n  </tbody>\n</table>\n</div>"
     },
     "metadata": {},
     "execution_count": 14
    }
   ],
   "source": [
    "# specify values for each row using list format, two lists combined into a dictionary\n",
    "df1 = pd.DataFrame([[4, 7, 10],\n",
    "                   [5, 8, 11],\n",
    "                   [6, 9, 12]],\n",
    "                   index=[1, 2, 3],\n",
    "                   columns=['a', 'b', 'c'])\n",
    "df\n",
    "df1 = df\n",
    "pd.concat([df, df1], axis=0) # row merge\n",
    "pd.concat([df, df1], axis=1) # column merge\n",
    "\n",
    "\n"
   ]
  },
  {
   "cell_type": "code",
   "execution_count": 8,
   "metadata": {
    "tags": []
   },
   "outputs": [
    {
     "output_type": "execute_result",
     "data": {
      "text/plain": [
       "       Date/Time      Lat      Lon    Base\n",
       "0  6/1/2014 0:00  40.7293 -73.9920  A02512\n",
       "1  6/1/2014 0:01  40.7131 -74.0097  A12512\n",
       "2  6/1/2014 0:04  40.3461 -74.6610  B02512\n",
       "3  6/1/2014 0:04  40.7555 -73.9833  Q12512\n",
       "4  6/1/2014 0:07  40.6880 -74.1831  F12512\n",
       "6  6/1/2014 0:08  40.7282 -73.9910  T02512\n",
       "7  6/1/2014 0:08  40.3042 -73.9794  F12512\n",
       "8  6/1/2014 0:09  40.7270 -73.9915  CD2512"
      ],
      "text/html": "<div>\n<style scoped>\n    .dataframe tbody tr th:only-of-type {\n        vertical-align: middle;\n    }\n\n    .dataframe tbody tr th {\n        vertical-align: top;\n    }\n\n    .dataframe thead th {\n        text-align: right;\n    }\n</style>\n<table border=\"1\" class=\"dataframe\">\n  <thead>\n    <tr style=\"text-align: right;\">\n      <th></th>\n      <th>Date/Time</th>\n      <th>Lat</th>\n      <th>Lon</th>\n      <th>Base</th>\n    </tr>\n  </thead>\n  <tbody>\n    <tr>\n      <th>0</th>\n      <td>6/1/2014 0:00</td>\n      <td>40.7293</td>\n      <td>-73.9920</td>\n      <td>A02512</td>\n    </tr>\n    <tr>\n      <th>1</th>\n      <td>6/1/2014 0:01</td>\n      <td>40.7131</td>\n      <td>-74.0097</td>\n      <td>A12512</td>\n    </tr>\n    <tr>\n      <th>2</th>\n      <td>6/1/2014 0:04</td>\n      <td>40.3461</td>\n      <td>-74.6610</td>\n      <td>B02512</td>\n    </tr>\n    <tr>\n      <th>3</th>\n      <td>6/1/2014 0:04</td>\n      <td>40.7555</td>\n      <td>-73.9833</td>\n      <td>Q12512</td>\n    </tr>\n    <tr>\n      <th>4</th>\n      <td>6/1/2014 0:07</td>\n      <td>40.6880</td>\n      <td>-74.1831</td>\n      <td>F12512</td>\n    </tr>\n    <tr>\n      <th>6</th>\n      <td>6/1/2014 0:08</td>\n      <td>40.7282</td>\n      <td>-73.9910</td>\n      <td>T02512</td>\n    </tr>\n    <tr>\n      <th>7</th>\n      <td>6/1/2014 0:08</td>\n      <td>40.3042</td>\n      <td>-73.9794</td>\n      <td>F12512</td>\n    </tr>\n    <tr>\n      <th>8</th>\n      <td>6/1/2014 0:09</td>\n      <td>40.7270</td>\n      <td>-73.9915</td>\n      <td>CD2512</td>\n    </tr>\n  </tbody>\n</table>\n</div>"
     },
     "metadata": {},
     "execution_count": 8
    }
   ],
   "source": [
    "# check out the following site for pandas documentation\n",
    "# https://www.w3resource.com/pandas/\n",
    "\n",
    "# reading data from the different file types\n",
    "# .txt with tab delimiter, xlsx file, and csv file\n",
    "data = pd.read_excel('C:\\\\CityU\\\\CS506\\\\Data\\\\uber.csv.xlsx')\n",
    "#print(data.head())\n",
    "\n",
    "data = pd.read_csv('C:\\\\CityU\\\\CS506\\\\Data\\\\uber.txt', delimiter='\\t')\n",
    "#print(data.head())\n",
    "\n",
    "data = pd.read_csv('C:\\\\CityU\\\\CS506\\\\Data\\\\uber.csv')\n",
    "#print(data.head())\n",
    "\n",
    "# reading the headers\n",
    "print(data.columns)\n",
    "# reading each column\n",
    "print(data['Lat'])\n",
    "print(data[['Date/Time', 'Lat', 'Lon']])\n",
    "print(data.Lon) # whole column\n",
    "print(data['Lon'][0:3])\n",
    "print(data[['Lat', 'Lon']][0:3]) # slicing using the labels\n",
    "print(data.Lon[0:3])\n",
    "# reading each row (= index location, iloc)\n",
    "print(data.iloc[:, 0] # displaying a column data\n",
    "print(data.iloc[1])   # displaying a row data\n",
    "print(data.iloc[1:4]) # displaying rows\n",
    "\n",
    "# reading a specific location (row, col)\n",
    "print(data.iloc[2,1])\n",
    "\n",
    "# iterate thru the list per column\n",
    "for index, col in data.iterrows():\n",
    "    print(index, col['Lon'])\n",
    "\n",
    "# looking for a specific item value contents\n",
    "print(data.loc[data['Lon'] < -73])\n",
    "print(data.loc[data['Lon'] == -73.9920])\n",
    "\n",
    "# using specific conditions: and -> &, or -> | to look for those items.\n",
    "new = data.loc[(data['Lon'] == -73.9920) | (data['Lat'] == 40.7555)]\n",
    "new = data.loc[(data['Lon'] == -73.9920) & (data['Lat'] > 40)]\n",
    "new.to_csv('filtered.csv', index=False)\n",
    "\n",
    "# removing the old index\n",
    "new.reset_index()\n",
    "new.reset_index(drop=True, inplace=True) # drop=True -> drop that old indices\n",
    "\n",
    "# pulling out specific string values\n",
    "data.loc[data['Base'].str.contains('B')]\n",
    "data.loc[~data['Base'].str.contains('B')] # ~ not\n",
    "data.loc[data['Base'].str.contains('b')] # lower case ignored.\n",
    "import re\n",
    "data.loc[data['Base'].str.contains('b', flags=re.I, regex=True)] # lower case ignored.\n",
    "\n",
    "data.describe()\n",
    "\n",
    "# stats of the data numeric values\n",
    "print(data.describe())\n",
    "print(data.sort_values(['Lon', 'Lat'], ascending=False))\n",
    "print(data.sort_values(['Lon', 'Lat'], ascending=[1,0]))\n",
    "\n",
    "# other utility methods\n",
    "data.dropna(inplace=True)\n",
    "data.fillna(0)\n",
    "data.duplicates()\n",
    "data.nlargest(3, 'Lon')\n",
    "data.nsmallest(3, 'Lon')\n",
    "data.Lon.abs()\n",
    "data\n",
    "\n"
   ]
  },
  {
   "source": [
    "Making changes to the data\n",
    "\n"
   ],
   "cell_type": "markdown",
   "metadata": {}
  },
  {
   "cell_type": "code",
   "execution_count": 81,
   "metadata": {},
   "outputs": [],
   "source": [
    "data = pd.read_csv('C:\\\\CityU\\\\CS506\\\\Data\\\\uber.txt', delimiter='\\t')\n",
    "# creating a new column from number crunching the existing values.\n",
    "data['Offset'] = data['Lat'] + data['Lon']\n",
    "data.head(3)\n",
    "#data['Offset'] = data.iloc[:, 1:3].sum(axis=1) # axis=1 -> column sum\n",
    "cols = list(data.columns)\n",
    "#print(cols)\n",
    "# rearranging the column orders\n",
    "data = data[cols[0:3] + [cols[4]] + [cols[3]]]\n",
    "\n",
    "# dropping the column\n",
    "data.drop(columns=['Lat'])\n",
    "\n"
   ]
  },
  {
   "cell_type": "code",
   "execution_count": 9,
   "metadata": {},
   "outputs": [
    {
     "output_type": "execute_result",
     "data": {
      "text/plain": [
       "(3, 4)"
      ]
     },
     "metadata": {},
     "execution_count": 9
    }
   ],
   "source": [
    "df = pd.DataFrame(np.arange(12).reshape(3, 4), columns=['P', 'Q', 'R', 'S'])\n",
    "df\n",
    "df.shape"
   ]
  },
  {
   "cell_type": "code",
   "execution_count": 70,
   "metadata": {},
   "outputs": [
    {
     "output_type": "execute_result",
     "data": {
      "text/plain": [
       "    R   S\n",
       "0   2   3\n",
       "1   6   7\n",
       "2  10  11"
      ],
      "text/html": "<div>\n<style scoped>\n    .dataframe tbody tr th:only-of-type {\n        vertical-align: middle;\n    }\n\n    .dataframe tbody tr th {\n        vertical-align: top;\n    }\n\n    .dataframe thead th {\n        text-align: right;\n    }\n</style>\n<table border=\"1\" class=\"dataframe\">\n  <thead>\n    <tr style=\"text-align: right;\">\n      <th></th>\n      <th>R</th>\n      <th>S</th>\n    </tr>\n  </thead>\n  <tbody>\n    <tr>\n      <th>0</th>\n      <td>2</td>\n      <td>3</td>\n    </tr>\n    <tr>\n      <th>1</th>\n      <td>6</td>\n      <td>7</td>\n    </tr>\n    <tr>\n      <th>2</th>\n      <td>10</td>\n      <td>11</td>\n    </tr>\n  </tbody>\n</table>\n</div>"
     },
     "metadata": {},
     "execution_count": 70
    }
   ],
   "source": [
    "df.drop(['Q', 'P'], axis=1)"
   ]
  },
  {
   "cell_type": "code",
   "execution_count": 72,
   "metadata": {},
   "outputs": [
    {
     "output_type": "execute_result",
     "data": {
      "text/plain": [
       "   P   S\n",
       "0  0   3\n",
       "1  4   7\n",
       "2  8  11"
      ],
      "text/html": "<div>\n<style scoped>\n    .dataframe tbody tr th:only-of-type {\n        vertical-align: middle;\n    }\n\n    .dataframe tbody tr th {\n        vertical-align: top;\n    }\n\n    .dataframe thead th {\n        text-align: right;\n    }\n</style>\n<table border=\"1\" class=\"dataframe\">\n  <thead>\n    <tr style=\"text-align: right;\">\n      <th></th>\n      <th>P</th>\n      <th>S</th>\n    </tr>\n  </thead>\n  <tbody>\n    <tr>\n      <th>0</th>\n      <td>0</td>\n      <td>3</td>\n    </tr>\n    <tr>\n      <th>1</th>\n      <td>4</td>\n      <td>7</td>\n    </tr>\n    <tr>\n      <th>2</th>\n      <td>8</td>\n      <td>11</td>\n    </tr>\n  </tbody>\n</table>\n</div>"
     },
     "metadata": {},
     "execution_count": 72
    }
   ],
   "source": [
    "df.drop(columns=['Q', 'R'])"
   ]
  },
  {
   "cell_type": "code",
   "execution_count": 74,
   "metadata": {},
   "outputs": [
    {
     "output_type": "execute_result",
     "data": {
      "text/plain": [
       "   P  Q   R   S\n",
       "2  8  9  10  11"
      ],
      "text/html": "<div>\n<style scoped>\n    .dataframe tbody tr th:only-of-type {\n        vertical-align: middle;\n    }\n\n    .dataframe tbody tr th {\n        vertical-align: top;\n    }\n\n    .dataframe thead th {\n        text-align: right;\n    }\n</style>\n<table border=\"1\" class=\"dataframe\">\n  <thead>\n    <tr style=\"text-align: right;\">\n      <th></th>\n      <th>P</th>\n      <th>Q</th>\n      <th>R</th>\n      <th>S</th>\n    </tr>\n  </thead>\n  <tbody>\n    <tr>\n      <th>2</th>\n      <td>8</td>\n      <td>9</td>\n      <td>10</td>\n      <td>11</td>\n    </tr>\n  </tbody>\n</table>\n</div>"
     },
     "metadata": {},
     "execution_count": 74
    }
   ],
   "source": [
    "df.drop([0, 1])"
   ]
  },
  {
   "cell_type": "code",
   "execution_count": 76,
   "metadata": {},
   "outputs": [
    {
     "output_type": "execute_result",
     "data": {
      "text/plain": [
       "                big  small\n",
       "deer  speed    60.0   35.0\n",
       "      weight   30.0   12.0\n",
       "      length    5.5    1.0\n",
       "dog   speed    40.0   20.0\n",
       "      weight   25.0   10.0\n",
       "      length    4.5    0.8\n",
       "eagle speed   320.0  220.0\n",
       "      weight    2.0    0.8\n",
       "      length    2.2    0.2"
      ],
      "text/html": "<div>\n<style scoped>\n    .dataframe tbody tr th:only-of-type {\n        vertical-align: middle;\n    }\n\n    .dataframe tbody tr th {\n        vertical-align: top;\n    }\n\n    .dataframe thead th {\n        text-align: right;\n    }\n</style>\n<table border=\"1\" class=\"dataframe\">\n  <thead>\n    <tr style=\"text-align: right;\">\n      <th></th>\n      <th></th>\n      <th>big</th>\n      <th>small</th>\n    </tr>\n  </thead>\n  <tbody>\n    <tr>\n      <th rowspan=\"3\" valign=\"top\">deer</th>\n      <th>speed</th>\n      <td>60.0</td>\n      <td>35.0</td>\n    </tr>\n    <tr>\n      <th>weight</th>\n      <td>30.0</td>\n      <td>12.0</td>\n    </tr>\n    <tr>\n      <th>length</th>\n      <td>5.5</td>\n      <td>1.0</td>\n    </tr>\n    <tr>\n      <th rowspan=\"3\" valign=\"top\">dog</th>\n      <th>speed</th>\n      <td>40.0</td>\n      <td>20.0</td>\n    </tr>\n    <tr>\n      <th>weight</th>\n      <td>25.0</td>\n      <td>10.0</td>\n    </tr>\n    <tr>\n      <th>length</th>\n      <td>4.5</td>\n      <td>0.8</td>\n    </tr>\n    <tr>\n      <th rowspan=\"3\" valign=\"top\">eagle</th>\n      <th>speed</th>\n      <td>320.0</td>\n      <td>220.0</td>\n    </tr>\n    <tr>\n      <th>weight</th>\n      <td>2.0</td>\n      <td>0.8</td>\n    </tr>\n    <tr>\n      <th>length</th>\n      <td>2.2</td>\n      <td>0.2</td>\n    </tr>\n  </tbody>\n</table>\n</div>"
     },
     "metadata": {},
     "execution_count": 76
    }
   ],
   "source": [
    "# multiple index data manipulation (more dropping)\n",
    "midx = pd.MultiIndex(levels=[['deer', 'dog', 'eagle'],\n",
    "                             ['speed', 'weight', 'length']],\n",
    "                      codes=[[0, 0, 0, 1, 1, 1, 2, 2, 2],\n",
    "                            [0, 1, 2, 0, 1, 2, 0, 1, 2]])\n",
    "df = pd.DataFrame(index=midx, columns=['big', 'small'],\n",
    "                   data=[[60, 35], [30, 12], [5.5, 1], [40, 20],\n",
    "                         [25, 10], [4.5, 0.8], [320, 220],\n",
    "                         [2, 0.8], [2.2, 0.2]])\n",
    "df"
   ]
  },
  {
   "cell_type": "code",
   "execution_count": 78,
   "metadata": {},
   "outputs": [
    {
     "output_type": "execute_result",
     "data": {
      "text/plain": [
       "                big\n",
       "deer  speed    60.0\n",
       "      weight   30.0\n",
       "      length    5.5\n",
       "eagle speed   320.0\n",
       "      weight    2.0\n",
       "      length    2.2"
      ],
      "text/html": "<div>\n<style scoped>\n    .dataframe tbody tr th:only-of-type {\n        vertical-align: middle;\n    }\n\n    .dataframe tbody tr th {\n        vertical-align: top;\n    }\n\n    .dataframe thead th {\n        text-align: right;\n    }\n</style>\n<table border=\"1\" class=\"dataframe\">\n  <thead>\n    <tr style=\"text-align: right;\">\n      <th></th>\n      <th></th>\n      <th>big</th>\n    </tr>\n  </thead>\n  <tbody>\n    <tr>\n      <th rowspan=\"3\" valign=\"top\">deer</th>\n      <th>speed</th>\n      <td>60.0</td>\n    </tr>\n    <tr>\n      <th>weight</th>\n      <td>30.0</td>\n    </tr>\n    <tr>\n      <th>length</th>\n      <td>5.5</td>\n    </tr>\n    <tr>\n      <th rowspan=\"3\" valign=\"top\">eagle</th>\n      <th>speed</th>\n      <td>320.0</td>\n    </tr>\n    <tr>\n      <th>weight</th>\n      <td>2.0</td>\n    </tr>\n    <tr>\n      <th>length</th>\n      <td>2.2</td>\n    </tr>\n  </tbody>\n</table>\n</div>"
     },
     "metadata": {},
     "execution_count": 78
    }
   ],
   "source": [
    "# index -> row by label\n",
    "df.drop(index='dog', columns='small')\n"
   ]
  },
  {
   "cell_type": "code",
   "execution_count": 89,
   "metadata": {},
   "outputs": [
    {
     "output_type": "execute_result",
     "data": {
      "text/plain": [
       "                big  small\n",
       "dog   speed    40.0   20.0\n",
       "      weight   25.0   10.0\n",
       "      length    4.5    0.8\n",
       "eagle speed   320.0  220.0\n",
       "      weight    2.0    0.8\n",
       "      length    2.2    0.2"
      ],
      "text/html": "<div>\n<style scoped>\n    .dataframe tbody tr th:only-of-type {\n        vertical-align: middle;\n    }\n\n    .dataframe tbody tr th {\n        vertical-align: top;\n    }\n\n    .dataframe thead th {\n        text-align: right;\n    }\n</style>\n<table border=\"1\" class=\"dataframe\">\n  <thead>\n    <tr style=\"text-align: right;\">\n      <th></th>\n      <th></th>\n      <th>big</th>\n      <th>small</th>\n    </tr>\n  </thead>\n  <tbody>\n    <tr>\n      <th rowspan=\"3\" valign=\"top\">dog</th>\n      <th>speed</th>\n      <td>40.0</td>\n      <td>20.0</td>\n    </tr>\n    <tr>\n      <th>weight</th>\n      <td>25.0</td>\n      <td>10.0</td>\n    </tr>\n    <tr>\n      <th>length</th>\n      <td>4.5</td>\n      <td>0.8</td>\n    </tr>\n    <tr>\n      <th rowspan=\"3\" valign=\"top\">eagle</th>\n      <th>speed</th>\n      <td>320.0</td>\n      <td>220.0</td>\n    </tr>\n    <tr>\n      <th>weight</th>\n      <td>2.0</td>\n      <td>0.8</td>\n    </tr>\n    <tr>\n      <th>length</th>\n      <td>2.2</td>\n      <td>0.2</td>\n    </tr>\n  </tbody>\n</table>\n</div>"
     },
     "metadata": {},
     "execution_count": 89
    }
   ],
   "source": [
    "# dropping by levels (removing first level (=0) with the label)\n",
    "df.drop(index='deer', level=0)"
   ]
  },
  {
   "cell_type": "code",
   "execution_count": null,
   "metadata": {},
   "outputs": [],
   "source": [
    "# dropping by levels (removing second level (=1) with the label)\n",
    "df.drop(index='length', level=1)"
   ]
  },
  {
   "cell_type": "code",
   "execution_count": 90,
   "metadata": {},
   "outputs": [],
   "source": [
    "df.to_csv('animal.csv')"
   ]
  },
  {
   "cell_type": "code",
   "execution_count": 91,
   "metadata": {},
   "outputs": [],
   "source": [
    "df.to_excel('animal.xlsx')"
   ]
  },
  {
   "cell_type": "code",
   "execution_count": 92,
   "metadata": {},
   "outputs": [],
   "source": [
    "df.to_csv('animal.txt', sep='\\t')"
   ]
  },
  {
   "source": [
    "Filtering Data"
   ],
   "cell_type": "markdown",
   "metadata": {}
  },
  {
   "cell_type": "code",
   "execution_count": 133,
   "metadata": {},
   "outputs": [
    {
     "output_type": "execute_result",
     "data": {
      "text/plain": [
       "             Lat        Lon\n",
       "count   9.000000   9.000000\n",
       "mean   40.634067 -74.086967\n",
       "std     0.176348   0.224572\n",
       "min    40.304200 -74.661000\n",
       "25%    40.688000 -74.009700\n",
       "50%    40.715200 -73.991700\n",
       "75%    40.728200 -73.991000\n",
       "max    40.755500 -73.979400"
      ],
      "text/html": "<div>\n<style scoped>\n    .dataframe tbody tr th:only-of-type {\n        vertical-align: middle;\n    }\n\n    .dataframe tbody tr th {\n        vertical-align: top;\n    }\n\n    .dataframe thead th {\n        text-align: right;\n    }\n</style>\n<table border=\"1\" class=\"dataframe\">\n  <thead>\n    <tr style=\"text-align: right;\">\n      <th></th>\n      <th>Lat</th>\n      <th>Lon</th>\n    </tr>\n  </thead>\n  <tbody>\n    <tr>\n      <th>count</th>\n      <td>9.000000</td>\n      <td>9.000000</td>\n    </tr>\n    <tr>\n      <th>mean</th>\n      <td>40.634067</td>\n      <td>-74.086967</td>\n    </tr>\n    <tr>\n      <th>std</th>\n      <td>0.176348</td>\n      <td>0.224572</td>\n    </tr>\n    <tr>\n      <th>min</th>\n      <td>40.304200</td>\n      <td>-74.661000</td>\n    </tr>\n    <tr>\n      <th>25%</th>\n      <td>40.688000</td>\n      <td>-74.009700</td>\n    </tr>\n    <tr>\n      <th>50%</th>\n      <td>40.715200</td>\n      <td>-73.991700</td>\n    </tr>\n    <tr>\n      <th>75%</th>\n      <td>40.728200</td>\n      <td>-73.991000</td>\n    </tr>\n    <tr>\n      <th>max</th>\n      <td>40.755500</td>\n      <td>-73.979400</td>\n    </tr>\n  </tbody>\n</table>\n</div>"
     },
     "metadata": {},
     "execution_count": 133
    }
   ],
   "source": [
    "# using specific conditions: and -> &, or -> | to look for those items.\n",
    "new = data.loc[(data['Lon'] == -73.9920) | (data['Lat'] == 40.7555)]\n",
    "new.to_csv('filtered.csv', index=False)\n",
    "\n",
    "# removing the old index\n",
    "new.reset_index()\n",
    "new.reset_index(drop=True, inplace=True)\n",
    "\n",
    "# pulling out specific string values\n",
    "data.loc[data['Base'].str.contains('B')]\n",
    "data.loc[~data['Base'].str.contains('B')] # ~ not\n",
    "data.loc[data['Base'].str.contains('b')] # lower case ignored.\n",
    "import re\n",
    "data.loc[data['Base'].str.contains('b', flags=re.I, regex=True)] # lower case ignored.\n",
    "\n",
    "data.describe()\n"
   ]
  },
  {
   "cell_type": "code",
   "execution_count": null,
   "metadata": {},
   "outputs": [],
   "source": []
  }
 ]
}