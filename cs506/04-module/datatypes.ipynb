{
 "cells": [
  {
   "cell_type": "code",
   "execution_count": 1,
   "metadata": {},
   "outputs": [
    {
     "name": "stdout",
     "output_type": "stream",
     "text": [
      "int64\n",
      "float64\n",
      "[1. 2.]\n",
      "float64\n"
     ]
    }
   ],
   "source": [
    "import numpy as np\n",
    "\n",
    "dt = np.array([1,2])\n",
    "print(dt.dtype)\n",
    "\n",
    "dt = np.array([1.0, 2.0])\n",
    "print(dt.dtype)\n",
    "\n",
    "dt = np.array([1, 2], dtype=np.float64)\n",
    "print(dt)\n",
    "print(dt.dtype)"
   ]
  },
  {
   "cell_type": "code",
   "execution_count": 4,
   "metadata": {},
   "outputs": [
    {
     "name": "stdout",
     "output_type": "stream",
     "text": [
      "[('name', '<U10'), ('age', '<i8'), ('marks', '<f8')]\n"
     ]
    }
   ],
   "source": [
    "student = np.dtype([('name', np.str_, 10), ('age', np.int64), ('marks', np.float64)])\n",
    "print(student)"
   ]
  },
  {
   "cell_type": "code",
   "execution_count": 6,
   "metadata": {},
   "outputs": [
    {
     "name": "stdout",
     "output_type": "stream",
     "text": [
      "[('student1', 20, 100.) ('student2wi', 22,  89.)]\n",
      "[('name', '<U10'), ('age', '<i8'), ('marks', '<f8')]\n"
     ]
    }
   ],
   "source": [
    "ms_student = np.array([('student1', 20, 100), ('student2withlongname', 22, 89)]\n",
    ", dtype=student)\n",
    "print(ms_student)\n",
    "print(ms_student.dtype)"
   ]
  }
 ],
 "metadata": {
  "kernelspec": {
   "display_name": "Python 3 (ipykernel)",
   "language": "python",
   "name": "python3"
  },
  "language_info": {
   "codemirror_mode": {
    "name": "ipython",
    "version": 3
   },
   "file_extension": ".py",
   "mimetype": "text/x-python",
   "name": "python",
   "nbconvert_exporter": "python",
   "pygments_lexer": "ipython3",
   "version": "3.12.1"
  }
 },
 "nbformat": 4,
 "nbformat_minor": 2
}
