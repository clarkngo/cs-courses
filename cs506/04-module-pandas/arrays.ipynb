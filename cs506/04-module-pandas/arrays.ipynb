{
 "cells": [
  {
   "cell_type": "code",
   "execution_count": 2,
   "metadata": {},
   "outputs": [
    {
     "name": "stdout",
     "output_type": "stream",
     "text": [
      "<class 'numpy.ndarray'>\n",
      "int64\n",
      "(3,)\n",
      "1 2 3\n",
      "[1 2 4]\n"
     ]
    }
   ],
   "source": [
    "import numpy as np\n",
    "\n",
    "# create rank 1 dim array\n",
    "arr = np.array([1, 2, 3])\n",
    "print(type(arr))         # outputs <class 'numpy.ndarray'>\n",
    "print(arr.dtype)         # outputs int64\n",
    "print(arr.shape)         # outputs (3,)\n",
    "print(arr[0], arr[1], arr[2])  # outputs 1 2 3\n",
    "arr[2] = 4              # change last element to 4\n",
    "print(arr)              # outputs [1 2 4]"
   ]
  },
  {
   "cell_type": "code",
   "execution_count": 3,
   "metadata": {},
   "outputs": [
    {
     "name": "stdout",
     "output_type": "stream",
     "text": [
      "(2, 3)\n",
      "1 2 4\n",
      "[4 5 6]\n"
     ]
    }
   ],
   "source": [
    "# create rank 2 array\n",
    "arr2 = np.array([[1, 2, 3], [4, 5, 6]])\n",
    "print(arr2.shape)       # outputs (2, 3)\n",
    "print(arr2[0, 0], arr2[0, 1], arr2[1, 0])  # outputs 1 2 4\n",
    "print(arr2[-1])         # outputs last element [4 5 6]"
   ]
  },
  {
   "cell_type": "code",
   "execution_count": 4,
   "metadata": {},
   "outputs": [
    {
     "name": "stdout",
     "output_type": "stream",
     "text": [
      "[[0. 0.]\n",
      " [0. 0.]]\n",
      "[[1. 1.]]\n",
      "[[5 5]\n",
      " [5 5]]\n",
      "[[1. 0. 0.]\n",
      " [0. 1. 0.]\n",
      " [0. 0. 1.]]\n",
      "[[0. 1. 0. 0.]\n",
      " [0. 0. 1. 0.]\n",
      " [0. 0. 0. 1.]\n",
      " [0. 0. 0. 0.]]\n",
      "[[0.40914783 0.29169733]\n",
      " [0.61154418 0.15493697]]\n"
     ]
    }
   ],
   "source": [
    "# create an array of zeros with 2 dim and size of 2 each\n",
    "zero = np.zeros((2,2))\n",
    "print(zero)             # outputs \"[[0. 0.]\n",
    "                        #           [0. 0.]]\"\n",
    "\n",
    "# create an array of ones with 1 dim and size of 2 each\n",
    "one = np.ones((1,2))\n",
    "print(one)              # outputs \"[[1. 1.]]\"\n",
    "\n",
    "# create a new array with given shape, type, and filled with value\n",
    "constant = np.full((2,2), 5)  # default type is float\n",
    "print(constant)         # outputs \"[[5 5]\n",
    "                        #           [5 5]]\"\n",
    "\n",
    "# create a 2-D array with 1 on diagonal and 0 on others\n",
    "diag = np.eye(3)        # number of rows\n",
    "print(diag)             # outputs \"[[1. 0. 0.]\n",
    "                        #           [0. 1. 0.]\n",
    "                        #           [0. 0. 1.]]\"\n",
    "\n",
    "# diag starts at index 1\n",
    "diag = np.eye(4, k=1)\n",
    "print(diag)             # outputs \"[[0. 1. 0. 0.]\n",
    "                        #           [0. 0. 1. 0.]\n",
    "                        #           [0. 0. 0. 1.]\n",
    "                        #           [0. 0. 0. 0.]]\"\n",
    "\n",
    "# Create an array with random values\n",
    "rand = np.random.random((2,2))\n",
    "print(rand)"
   ]
  },
  {
   "cell_type": "code",
   "execution_count": 5,
   "metadata": {},
   "outputs": [
    {
     "name": "stdout",
     "output_type": "stream",
     "text": [
      "[0 2 4 6]\n",
      "[[1 2]\n",
      " [5 6]]\n"
     ]
    }
   ],
   "source": [
    "# Array indexing\n",
    "\n",
    "arr = np.arange(10)  # generate array [0 1 2 3 4 5 6 7 8 9]\n",
    "print(arr[0:8:2])    # every two numbers from 0 up to but not including 8\n",
    "\n",
    "# create rank 2 with shape (3, 4) array\n",
    "arr = np.array([[1, 2, 3, 4], \n",
    "                [5, 6, 7, 8], \n",
    "                [9, 10, 11, 12]])\n",
    "print(arr[:2, :2])   # outputs [[1 2]\n",
    "                     #          [5 6]]"
   ]
  },
  {
   "cell_type": "code",
   "execution_count": 6,
   "metadata": {},
   "outputs": [
    {
     "name": "stdout",
     "output_type": "stream",
     "text": [
      "[1 4 6]\n"
     ]
    }
   ],
   "source": [
    "# Integer indexing\n",
    "\n",
    "arr = np.array([[1, 2], [3, 4], [5, 6]])\n",
    "print(arr[[0, 1, 2], [0, 1, 1]])  # outputs [1 4 6]\n",
    "\n",
    "# arr[[0, 1, 2], [0, 1, 1]] is equivalent to [arr[0, 0], arr[1, 1], arr[2, 1]]"
   ]
  }
 ],
 "metadata": {
  "kernelspec": {
   "display_name": "Python 3 (ipykernel)",
   "language": "python",
   "name": "python3"
  },
  "language_info": {
   "codemirror_mode": {
    "name": "ipython",
    "version": 3
   },
   "file_extension": ".py",
   "mimetype": "text/x-python",
   "name": "python",
   "nbconvert_exporter": "python",
   "pygments_lexer": "ipython3",
   "version": "3.12.1"
  }
 },
 "nbformat": 4,
 "nbformat_minor": 2
}
