{
  "nbformat": 4,
  "nbformat_minor": 0,
  "metadata": {
    "colab": {
      "provenance": []
    },
    "kernelspec": {
      "name": "python3",
      "display_name": "Python 3"
    },
    "language_info": {
      "name": "python"
    }
  },
  "cells": [
    {
      "cell_type": "markdown",
      "source": [
        "Problem 1: Generate Code with AI\n",
        "\n",
        "We will use Google DeepMind's Gemini 2.0 to generate a Python program from pseudo codes and analyze the generated program.\n",
        "\n",
        "\n",
        "\n",
        "Generate code with AI by entering the following statement.\n",
        "\n",
        "Load the digits dataset.\n",
        "\n",
        "Print the 5th image data.\n",
        "\n",
        "Display the 5th image.\n",
        "\n",
        "\n",
        "\n",
        "Execute the Python code.\n",
        "\n",
        "Analyze the code by using Gemini.\n",
        "\n",
        "Have a screen shot “PE01Output.png.”\n",
        "\n",
        "Save the code to “PE01.ipynb.”\n",
        "\n",
        "Download the Python program.\n",
        "\n",
        "Submit the screenshot and the code through your course shell."
      ],
      "metadata": {
        "id": "LVmkIuks5lg1"
      }
    },
    {
      "cell_type": "code",
      "execution_count": null,
      "metadata": {
        "colab": {
          "base_uri": "https://localhost:8080/",
          "height": 563
        },
        "id": "29zawL6vXzde",
        "outputId": "611ea2e8-0b4b-4237-9c30-ddfac7d313ac"
      },
      "outputs": [
        {
          "output_type": "stream",
          "name": "stdout",
          "text": [
            "🧾 Verifying check digit #5...\n",
            "[ 0.  0.  0.  1. 11.  0.  0.  0.  0.  0.  0.  7.  8.  0.  0.  0.  0.  0.\n",
            "  1. 13.  6.  2.  2.  0.  0.  0.  7. 15.  0.  9.  8.  0.  0.  5. 16. 10.\n",
            "  0. 16.  6.  0.  0.  4. 15. 16. 13. 16.  1.  0.  0.  0.  0.  3. 15. 10.\n",
            "  0.  0.  0.  0.  0.  2. 16.  4.  0.  0.]\n"
          ]
        },
        {
          "output_type": "display_data",
          "data": {
            "text/plain": [
              "<Figure size 640x480 with 0 Axes>"
            ]
          },
          "metadata": {}
        },
        {
          "output_type": "display_data",
          "data": {
            "text/plain": [
              "<Figure size 480x480 with 1 Axes>"
            ],
            "image/png": "[encoded data removed]"
          },
          "metadata": {}
        }
      ],
      "source": [
        "from sklearn.datasets import load_digits\n",
        "import matplotlib.pyplot as plt\n",
        "\n",
        "# Load the dataset\n",
        "digits = load_digits()\n",
        "\n",
        "# Step 1: Print the pixel data of the 5th check digit\n",
        "print(\"🧾 Verifying check digit #5...\")\n",
        "print(digits.data[4])\n",
        "\n",
        "# Step 2: Display the scanned image\n",
        "plt.gray()\n",
        "plt.matshow(digits.images[4])\n",
        "plt.title(\"Check Digit #5 Scan\")\n",
        "plt.show()\n"
      ]
    },
    {
      "cell_type": "markdown",
      "source": [
        "Problem 2: Vibe coding\n",
        "\n",
        "Guide:\n",
        "\n",
        "Replace the “robotic” problem with something you like (sports, food, hobbies, funny inside jokes).\n",
        "\n",
        "Add a goal or story. Make it a mission or challenge.\n",
        "\n",
        "Example “Check Verification System”:  \n",
        "\n",
        "You're building a check verification system for a bank. The system scans handwritten digits from checks. Your goal is to:\n",
        "\n",
        "Load historical digit images.\n",
        "\n",
        "Print the pixel data of the 5th scanned check.\n",
        "\n",
        "Display the image so the fraud detection team can review it."
      ],
      "metadata": {
        "id": "TGXqMZBE5qLv"
      }
    },
    {
      "cell_type": "code",
      "source": [
        "from sklearn.datasets import load_digits\n",
        "import matplotlib.pyplot as plt\n",
        "\n",
        "# Load the digits dataset (simulating scanned handwritten digits from checks)\n",
        "digits = load_digits()\n",
        "\n",
        "# Get pixel data of the 5th scanned check\n",
        "fifth_image_data = digits.data[4]\n",
        "fifth_image_label = digits.target[4]\n",
        "fifth_image_2d = digits.images[4]\n",
        "\n",
        "# Print pixel data\n",
        "print(\"Pixel data of the 5th scanned check (flattened):\")\n",
        "print(fifth_image_data)\n",
        "\n",
        "# Display the image\n",
        "plt.figure(figsize=(2, 2))\n",
        "plt.imshow(fifth_image_2d, cmap='gray')\n",
        "plt.title(f\"Scanned Check Digit: {fifth_image_label}\")\n",
        "plt.axis('off')\n",
        "plt.show()\n"
      ],
      "metadata": {
        "colab": {
          "base_uri": "https://localhost:8080/",
          "height": 300
        },
        "id": "-ggTESh655-M",
        "outputId": "7c530966-d5c6-427a-e5f1-6da012497734"
      },
      "execution_count": 1,
      "outputs": [
        {
          "output_type": "stream",
          "name": "stdout",
          "text": [
            "Pixel data of the 5th scanned check (flattened):\n",
            "[ 0.  0.  0.  1. 11.  0.  0.  0.  0.  0.  0.  7.  8.  0.  0.  0.  0.  0.\n",
            "  1. 13.  6.  2.  2.  0.  0.  0.  7. 15.  0.  9.  8.  0.  0.  5. 16. 10.\n",
            "  0. 16.  6.  0.  0.  4. 15. 16. 13. 16.  1.  0.  0.  0.  0.  3. 15. 10.\n",
            "  0.  0.  0.  0.  0.  2. 16.  4.  0.  0.]\n"
          ]
        },
        {
          "output_type": "display_data",
          "data": {
            "text/plain": [
              "<Figure size 200x200 with 1 Axes>"
            ],
            "image/png": "[encoded data removed]"
          },
          "metadata": {}
        }
      ]
    }
  ]
}