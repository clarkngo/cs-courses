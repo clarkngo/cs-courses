{
  "nbformat": 4,
  "nbformat_minor": 0,
  "metadata": {
    "colab": {
      "provenance": []
    },
    "kernelspec": {
      "name": "python3",
      "display_name": "Python 3"
    },
    "language_info": {
      "name": "python"
    }
  },
  "cells": [
    {
      "cell_type": "code",
      "source": [
        "print(\"\\nMultiple assignments\\n\")\n",
        "a, b, c = 5, 3.2, \"Hello\"\n",
        "print(\"a = \", a)\n",
        "print(\"b = \", b)\n",
        "print(\"c = \", c)\n",
        "\n",
        "x = y = z = \"Python\"\n",
        "print(\"x = \" + x)\n",
        "print(\"y = \" + y)\n",
        "print(\"z = \" + z)\n"
      ],
      "metadata": {
        "colab": {
          "base_uri": "https://localhost:8080/"
        },
        "id": "Ray3UzvK4IJB",
        "outputId": "3ac32dc7-c944-43d8-c700-d4d94512a51e"
      },
      "execution_count": null,
      "outputs": [
        {
          "output_type": "stream",
          "name": "stdout",
          "text": [
            "\n",
            "Multiple assignments\n",
            "\n",
            "a =  5\n",
            "b =  3.2\n",
            "c =  Hello\n",
            "x = Python\n",
            "y = Python\n",
            "z = Python\n"
          ]
        }
      ]
    },
    {
      "cell_type": "code",
      "source": [
        "first_message = \"Hi !\"\n",
        "second_message = \"How are you ?\"\n",
        "full_message = f\"{first_message} {second_message}\"\n",
        "print(full_message)\n"
      ],
      "metadata": {
        "colab": {
          "base_uri": "https://localhost:8080/"
        },
        "id": "tbHV2C0qpIlr",
        "outputId": "72fbead0-45eb-40f4-9820-fe22bef8f393"
      },
      "execution_count": null,
      "outputs": [
        {
          "output_type": "stream",
          "name": "stdout",
          "text": [
            "Hi ! How are you ?\n"
          ]
        }
      ]
    },
    {
      "cell_type": "code",
      "source": [
        "print(\"\\nFloat\\n\")\n",
        "a = 2.2\n",
        "b = 2\n",
        "c = 0.1\n",
        "print(\"a + b =\", a + b)\n",
        "print(\"a + c =\", a + c)\n",
        "print(\"a * b =\", a * b)\n",
        "print(\"a ** b =\", a ** b)\n"
      ],
      "metadata": {
        "colab": {
          "base_uri": "https://localhost:8080/"
        },
        "id": "D2abek9Zp2EV",
        "outputId": "0035c8ae-4f95-4fb2-aab3-2a7b46c8186b"
      },
      "execution_count": null,
      "outputs": [
        {
          "output_type": "stream",
          "name": "stdout",
          "text": [
            "\n",
            "Float\n",
            "\n",
            "a + b = 4.2\n",
            "a + c = 2.3000000000000003\n",
            "a * b = 4.4\n",
            "a ** b = 4.840000000000001\n"
          ]
        }
      ]
    },
    {
      "cell_type": "code",
      "source": [
        "print('How old are you?')\n",
        "age = int(input())\n",
        "\n",
        "if age < 22:\n",
        "    print('You are too young to have a drink.')\n",
        "elif age >= 80:\n",
        "    print('Ok, you will get a free drink.')\n",
        "else:\n",
        "    print('Sure, enjoy your drink.')\n"
      ],
      "metadata": {
        "colab": {
          "base_uri": "https://localhost:8080/"
        },
        "id": "uoCh1ofjp8X_",
        "outputId": "f584fec6-83a9-4830-d3c5-e7557bb7d3df"
      },
      "execution_count": null,
      "outputs": [
        {
          "output_type": "stream",
          "name": "stdout",
          "text": [
            "How old are you?\n",
            "23\n",
            "Sure, enjoy your drink.\n"
          ]
        }
      ]
    },
    {
      "cell_type": "code",
      "source": [
        "import random\n",
        "\n",
        "for i in range(1, random.randint(5, 15)):\n",
        "    print('This for loop has already run ' + str(i) + ' times.')\n"
      ],
      "metadata": {
        "colab": {
          "base_uri": "https://localhost:8080/"
        },
        "id": "mr70UVcOqAI1",
        "outputId": "9be8d05f-3912-4731-b3df-f9f53eee2904"
      },
      "execution_count": null,
      "outputs": [
        {
          "output_type": "stream",
          "name": "stdout",
          "text": [
            "This for loop has already run 1 times.\n",
            "This for loop has already run 2 times.\n",
            "This for loop has already run 3 times.\n",
            "This for loop has already run 4 times.\n",
            "This for loop has already run 5 times.\n",
            "This for loop has already run 6 times.\n",
            "This for loop has already run 7 times.\n"
          ]
        }
      ]
    },
    {
      "cell_type": "markdown",
      "source": [
        "Student Instructions\n",
        "Your mission:\n",
        "Create your own adventure theme.\n",
        "Use at least 3 variables to track the player’s status.\n",
        "Include one if-else branch that changes the outcome.\n",
        "Include one for or while loop (e.g., puzzle, attempt counter).\n",
        "\n",
        "Write a beginning, middle, and end.\n",
        "\n",
        "Bonus: Add randomness, inventory, or emoji flair!"
      ],
      "metadata": {
        "id": "4RuZuIcnqJ6o"
      }
    },
    {
      "cell_type": "code",
      "source": [
        "import time\n",
        "import random\n",
        "\n",
        "def start_game():\n",
        "    print(\"You find yourself locked inside the dark and dusty Northview High School after hours.\")\n",
        "    print(\"A chilling silence hangs in the air, broken only by the distant echo of your footsteps.\")\n",
        "    print(\"Rumor has it the school is haunted by the spirits of vengeful teachers...\")\n",
        "    time.sleep(2)\n",
        "    print(\"\\nYour goal: Find a way to escape the school before the night is over.\")\n",
        "    time.sleep(2)\n",
        "    print(\"\\nLet your terrifying adventure begin!\")\n",
        "\n",
        "def hallway_choice():\n",
        "    print(\"\\nYou are in the main hallway. To your left is the science lab, to your right is the library.\")\n",
        "    print(\"Where do you want to go? (left/right)\")\n",
        "    choice = input().lower()\n",
        "    if choice == \"left\":\n",
        "        science_lab()\n",
        "    elif choice == \"right\":\n",
        "        library()\n",
        "    else:\n",
        "        print(\"Invalid choice. You stumble around for a moment, feeling lost.\")\n",
        "        hallway_choice()\n",
        "\n",
        "def science_lab():\n",
        "    print(\"\\nYou enter the science lab. The air is thick with the smell of chemicals.\")\n",
        "    print(\"In the corner, you see a strange glowing beaker. Do you examine it? (yes/no)\")\n",
        "    choice = input().lower()\n",
        "    if choice == \"yes\":\n",
        "        print(\"You cautiously approach the beaker. As you get closer, a spectral hand reaches out!\")\n",
        "        print(\"You scream and run back into the hallway!\")\n",
        "        hallway_choice()\n",
        "    elif choice == \"no\":\n",
        "        print(\"You decide it's best not to disturb anything and head back to the hallway.\")\n",
        "        hallway_choice()\n",
        "    else:\n",
        "        print(\"Invalid choice.\")\n",
        "        science_lab()\n",
        "\n",
        "def library():\n",
        "    print(\"\\nYou enter the library. Rows of dusty books stretch endlessly before you.\")\n",
        "    print(\"You hear a faint whispering sound coming from behind a bookshelf.\")\n",
        "    print(\"Do you investigate the sound? (yes/no)\")\n",
        "    choice = input().lower()\n",
        "    if choice == \"yes\":\n",
        "        print(\"You creep towards the sound. As you peek behind the bookshelf, you see...\")\n",
        "        print(\"...an evil looking teacher staring right at you!\")\n",
        "        print(\"You quickly duck back and try to find another way out.\")\n",
        "        puzzle_challenge()\n",
        "    elif choice == \"no\":\n",
        "        print(\"You decide not to risk it and carefully move deeper into the library.\")\n",
        "        print(\"You spot a door that seems to lead to the school's courtyard.\")\n",
        "        courtyard()\n",
        "    else:\n",
        "        print(\"Invalid choice.\")\n",
        "        library()\n",
        "\n",
        "def puzzle_challenge():\n",
        "    print(\"\\nTo escape the evil teacher, you need to solve a puzzle.\")\n",
        "    print(\"The teacher is guarding a key, and the only way to get it is to answer a riddle.\")\n",
        "    riddles = {\n",
        "        \"I speak without a mouth and hear without ears. I have no body, but I come alive with wind. What am I?\": \"echo\",\n",
        "        \"What has to be broken before you can use it?\": \"egg\",\n",
        "        \"What is full of holes but still holds water?\": \"sponge\"\n",
        "    }\n",
        "    riddle, answer = random.choice(list(riddles.items()))\n",
        "    attempts = 3\n",
        "\n",
        "    for attempt in range(attempts):\n",
        "        print(f\"\\nRiddle: {riddle}\")\n",
        "        player_answer = input(\"Your answer: \").lower()\n",
        "        if player_answer == answer:\n",
        "            print(\"Correct! The teacher groans in frustration and vanishes.\")\n",
        "            print(\"You grab the key and escape the library!\")\n",
        "            courtyard()\n",
        "            return\n",
        "        else:\n",
        "            print(\"Incorrect.\")\n",
        "            if attempt < attempts - 1:\n",
        "                print(f\"You have {attempts - 1 - attempt} attempts left.\")\n",
        "            else:\n",
        "                print(\"You failed to solve the riddle. The teacher catches you!\")\n",
        "                game_over()\n",
        "\n",
        "def courtyard():\n",
        "    print(\"\\nYou are in the school courtyard. The air is cold but fresh.\")\n",
        "    print(\"You see a tall fence surrounding the courtyard.\")\n",
        "    print(\"Do you try to climb the fence or look for another exit? (climb/look)\")\n",
        "    choice = input().lower()\n",
        "    if choice == \"climb\":\n",
        "        print(\"You attempt to climb the fence. It's higher than you thought!\")\n",
        "        if random.random() > 0.5:\n",
        "            print(\"You successfully make it over the fence!\")\n",
        "            end_game()\n",
        "        else:\n",
        "            print(\"You slip and fall, hurting your ankle. You have to look for another way.\")\n",
        "            courtyard_exit_search()\n",
        "    elif choice == \"look\":\n",
        "        courtyard_exit_search()\n",
        "    else:\n",
        "        print(\"Invalid choice.\")\n",
        "        courtyard()\n",
        "\n",
        "def courtyard_exit_search():\n",
        "    print(\"\\nYou search around the courtyard and find a small, rusted gate.\")\n",
        "    print(\"Do you try to open the gate? (yes/no)\")\n",
        "    choice = input().lower()\n",
        "    if choice == \"yes\":\n",
        "        print(\"You push against the gate with all your might.\")\n",
        "        if random.random() > 0.3:\n",
        "            print(\"With a loud creak, the gate swings open!\")\n",
        "            end_game()\n",
        "        else:\n",
        "            print(\"The gate is stuck. You can't open it.\")\n",
        "            print(\"You are trapped in the courtyard!\")\n",
        "            game_over()\n",
        "    elif choice == \"no\":\n",
        "        print(\"You decide not to risk the gate and look for another option.\")\n",
        "        print(\"There are no other obvious exits. You are trapped in the courtyard!\")\n",
        "        game_over()\n",
        "    else:\n",
        "        print(\"Invalid choice.\")\n",
        "        courtyard_exit_search()\n",
        "\n",
        "def game_over():\n",
        "    print(\"\\nYour adventure ends here. You did not escape the haunted school.\")\n",
        "    print(\"... Perhaps the vengeful teachers claimed another victim.\")\n",
        "    print(\"Game Over.\")\n",
        "\n",
        "def end_game():\n",
        "    print(\"\\nCongratulations! You have successfully escaped Northview High School!\")\n",
        "    print(\"You run into the night, leaving the horrors behind.\")\n",
        "    print(\"You survived... for now.\")\n",
        "    print(\"The End.\")\n",
        "\n",
        "# Start the game\n",
        "start_game()\n",
        "hallway_choice()"
      ],
      "metadata": {
        "colab": {
          "base_uri": "https://localhost:8080/"
        },
        "id": "q0sUo7SAtfks",
        "outputId": "98491127-a145-4d67-b411-a67320ee0f15"
      },
      "execution_count": null,
      "outputs": [
        {
          "output_type": "stream",
          "name": "stdout",
          "text": [
            "You find yourself locked inside the dark and dusty Northview High School after hours.\n",
            "A chilling silence hangs in the air, broken only by the distant echo of your footsteps.\n",
            "Rumor has it the school is haunted by the spirits of vengeful teachers...\n",
            "\n",
            "Your goal: Find a way to escape the school before the night is over.\n",
            "\n",
            "Let your terrifying adventure begin!\n",
            "\n",
            "You are in the main hallway. To your left is the science lab, to your right is the library.\n",
            "Where do you want to go? (left/right)\n",
            "left\n",
            "\n",
            "You enter the science lab. The air is thick with the smell of chemicals.\n",
            "In the corner, you see a strange glowing beaker. Do you examine it? (yes/no)\n",
            "no\n",
            "You decide it's best not to disturb anything and head back to the hallway.\n",
            "\n",
            "You are in the main hallway. To your left is the science lab, to your right is the library.\n",
            "Where do you want to go? (left/right)\n",
            "left\n",
            "\n",
            "You enter the science lab. The air is thick with the smell of chemicals.\n",
            "In the corner, you see a strange glowing beaker. Do you examine it? (yes/no)\n",
            "no\n",
            "You decide it's best not to disturb anything and head back to the hallway.\n",
            "\n",
            "You are in the main hallway. To your left is the science lab, to your right is the library.\n",
            "Where do you want to go? (left/right)\n",
            "right\n",
            "\n",
            "You enter the library. Rows of dusty books stretch endlessly before you.\n",
            "You hear a faint whispering sound coming from behind a bookshelf.\n",
            "Do you investigate the sound? (yes/no)\n",
            "yes\n",
            "You creep towards the sound. As you peek behind the bookshelf, you see...\n",
            "...an evil looking teacher staring right at you!\n",
            "You quickly duck back and try to find another way out.\n",
            "\n",
            "To escape the evil teacher, you need to solve a puzzle.\n",
            "The teacher is guarding a key, and the only way to get it is to answer a riddle.\n",
            "\n",
            "Riddle: What is full of holes but still holds water?\n",
            "Your answer: a\n",
            "Incorrect.\n",
            "You have 2 attempts left.\n",
            "\n",
            "Riddle: What is full of holes but still holds water?\n",
            "Your answer: bottle\n",
            "Incorrect.\n",
            "You have 1 attempts left.\n",
            "\n",
            "Riddle: What is full of holes but still holds water?\n",
            "Your answer: sponge\n",
            "Correct! The teacher groans in frustration and vanishes.\n",
            "You grab the key and escape the library!\n",
            "\n",
            "You are in the school courtyard. The air is cold but fresh.\n",
            "You see a tall fence surrounding the courtyard.\n",
            "Do you try to climb the fence or look for another exit? (climb/look)\n",
            "look\n",
            "\n",
            "You search around the courtyard and find a small, rusted gate.\n",
            "Do you try to open the gate? (yes/no)\n",
            "yes\n",
            "You push against the gate with all your might.\n",
            "With a loud creak, the gate swings open!\n",
            "\n",
            "Congratulations! You have successfully escaped Northview High School!\n",
            "You run into the night, leaving the horrors behind.\n",
            "You survived... for now.\n",
            "The End.\n"
          ]
        }
      ]
    },
    {
      "cell_type": "markdown",
      "source": [],
      "metadata": {
        "id": "k--wGbw0tfW2"
      }
    },
    {
      "cell_type": "code",
      "source": [],
      "metadata": {
        "id": "6ZhYHIpss2AV"
      },
      "execution_count": null,
      "outputs": []
    }
  ]
}