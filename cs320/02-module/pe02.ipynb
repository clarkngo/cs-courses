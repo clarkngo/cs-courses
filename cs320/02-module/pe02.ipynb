{
  "nbformat": 4,
  "nbformat_minor": 0,
  "metadata": {
    "colab": {
      "provenance": []
    },
    "kernelspec": {
      "name": "python3",
      "display_name": "Python 3"
    },
    "language_info": {
      "name": "python"
    }
  },
  "cells": [
    {
      "cell_type": "markdown",
      "source": [
        "Problem 1: Reduced to Zero  \n",
        "\n",
        "Given a non-negative integer num, return the number of steps to reduce it to zero using the following rules:"
      ],
      "metadata": {
        "id": "GdMF1BXC_A_g"
      }
    },
    {
      "cell_type": "code",
      "source": [
        "def numberOfSteps(num):\n",
        "    \"\"\"\n",
        "    Calculates the number of steps to reduce a non-negative integer to zero.\n",
        "\n",
        "    Args:\n",
        "        num: The non-negative integer.\n",
        "\n",
        "    Returns:\n",
        "        The number of steps to reduce the integer to zero.\n",
        "    \"\"\"\n",
        "    steps = 0\n",
        "    while num > 0:\n",
        "        if num % 2 == 0:\n",
        "            num //= 2\n",
        "        else:\n",
        "            num -= 1\n",
        "        steps += 1\n",
        "    return steps\n",
        "\n",
        "num = 14\n",
        "steps = numberOfSteps(num)\n",
        "print(\"num =\", num, \"steps =\", steps)"
      ],
      "metadata": {
        "colab": {
          "base_uri": "https://localhost:8080/"
        },
        "id": "sTgborfd_ACm",
        "outputId": "2fb01f5b-f128-418c-acfb-a61b07f103da"
      },
      "execution_count": 1,
      "outputs": [
        {
          "output_type": "stream",
          "name": "stdout",
          "text": [
            "num = 14 steps = 6\n"
          ]
        }
      ]
    },
    {
      "cell_type": "markdown",
      "source": [
        "\n",
        "\n",
        "Vibe coding:  \n",
        "\n",
        "Guide:\n",
        "\n",
        "Replace the “robotic” problem with something you like (sports, food, hobbies, funny inside jokes).\n",
        "\n",
        "Add a goal or story. Make it a mission or challenge.\n",
        "\n",
        "Example “Burn the Calories”:  \n",
        "\n",
        "You just had a massive cheat meal, and your tracker says you need to burn calories.\n",
        "\n",
        "If your current energy is even, you go for a high-intensity interval (cutting your energy in half).\n",
        "\n",
        "If it’s odd, you do a quick sprint (burn 1 calorie).\n",
        "\n",
        "Write a program that calculates how many workout steps it will take to burn all your calories.\n",
        "\n",
        ""
      ],
      "metadata": {
        "id": "XW3TgjvY_PjW"
      }
    },
    {
      "cell_type": "code",
      "execution_count": null,
      "metadata": {
        "colab": {
          "base_uri": "https://localhost:8080/"
        },
        "id": "_nnmcBssYIaO",
        "outputId": "e70aae9a-7db3-406b-9a1a-b660f6041f34"
      },
      "outputs": [
        {
          "output_type": "stream",
          "name": "stdout",
          "text": [
            "🔥 Welcome to Burn the Calories!\n",
            "What activity did you do (walk/run/jump)? jump\n",
            "How many minutes did you do it for? 2\n",
            "You burned approximately 16 calories by jumping for 2 minutes!\n"
          ]
        }
      ],
      "source": [
        "# Burn the Calories Game\n",
        "\n",
        "print(\"🔥 Welcome to Burn the Calories!\")\n",
        "activity = input(\"What activity did you do (walk/run/jump)? \").lower()\n",
        "minutes = int(input(\"How many minutes did you do it for? \"))\n",
        "\n",
        "# Calories burned per minute\n",
        "calories = {\n",
        "    'walk': 4,\n",
        "    'run': 10,\n",
        "    'jump': 8\n",
        "}\n",
        "\n",
        "if activity in calories:\n",
        "    burned = calories[activity] * minutes\n",
        "    print(f\"You burned approximately {burned} calories by {activity}ing for {minutes} minutes!\")\n",
        "else:\n",
        "    print(\"Sorry, we don't recognize that activity.\")\n"
      ]
    },
    {
      "cell_type": "markdown",
      "source": [
        "Problem 2: Add Digits\n",
        "\n",
        "Given a non-negative integer num, repeatedly add all its digits until the result has only one digit.\n",
        "\n",
        "\n",
        "\n",
        "Example:\n",
        "\n",
        "Input: 38\n",
        "\n",
        "Output: 2  \n",
        "\n",
        "Explanation: The process is like:  \n",
        "\n",
        "3 + 8 = 11, 1 + 1 = 2.\n",
        "\n",
        "Since 2 has only one digit, return it.\n",
        "\n",
        "\n",
        "\n",
        "Follow up:\n",
        "\n",
        "Could you do it without any loop/recursion in O(1) runtime?\n",
        "\n",
        ""
      ],
      "metadata": {
        "id": "Ht1J_N3W_WsF"
      }
    },
    {
      "cell_type": "code",
      "source": [
        "def add_digits(num):\n",
        "  \"\"\"\n",
        "  Repeatedly adds all digits of a non-negative integer until the result has only one digit.\n",
        "\n",
        "  Args:\n",
        "    num: The non-negative integer.\n",
        "\n",
        "  Returns:\n",
        "    The single-digit result.\n",
        "  \"\"\"\n",
        "  while num > 9:\n",
        "    num = sum(int(digit) for digit in str(num))\n",
        "  return num\n",
        "\n",
        "# Example usage\n",
        "number = 38\n",
        "result = add_digits(number)\n",
        "print(f\"The single-digit sum of {number} is: {result}\")\n"
      ],
      "metadata": {
        "colab": {
          "base_uri": "https://localhost:8080/"
        },
        "id": "eXAXJ_PA_ZmQ",
        "outputId": "deaeb404-91df-439a-fa9f-1159bbbb9de0"
      },
      "execution_count": 2,
      "outputs": [
        {
          "output_type": "stream",
          "name": "stdout",
          "text": [
            "The single-digit sum of 38 is: 2\n"
          ]
        }
      ]
    },
    {
      "cell_type": "markdown",
      "source": [
        "\n",
        "\n",
        "Vibe coding:  \n",
        "\n",
        "Guide:\n",
        "\n",
        "Replace the “robotic” problem with something you like (sports, food, hobbies, funny inside jokes).\n",
        "\n",
        "Add a goal or story. Make it a mission or challenge.\n",
        "\n",
        "Example “Lucky Charm Game”:  \n",
        "\n",
        "You're about to enter a competition, but to unlock your power-up, you need to find your lucky number!\n",
        "\n",
        "Take your birth year (or any favorite number), and keep adding its digits until you're left with one number.\n",
        "\n",
        "That’s your lucky charm. Use it wisely!"
      ],
      "metadata": {
        "id": "6Sajyzhn_dlu"
      }
    },
    {
      "cell_type": "code",
      "source": [
        "import random\n",
        "\n",
        "print(\"🍀 Welcome to the Lucky Charm Game!\")\n",
        "charms = [\"Clover\", \"Rabbit Foot\", \"Lucky Coin\", \"Horseshoe\", \"Fortune Cookie\"]\n",
        "player_pick = input(f\"Pick your lucky charm ({', '.join(charms)}): \")\n",
        "\n",
        "ai_pick = random.choice(charms)\n",
        "print(\"The charm of the day is:\", ai_pick)\n",
        "\n",
        "if player_pick == ai_pick:\n",
        "    print(\"🎉 You're lucky today! Big things are coming your way.\")\n",
        "else:\n",
        "    print(\"💤 Not today... try your luck tomorrow!\")\n"
      ],
      "metadata": {
        "colab": {
          "base_uri": "https://localhost:8080/"
        },
        "id": "mKH0Kw2GYN8g",
        "outputId": "de9cbd6e-6307-4c4e-efb8-88f20513eaed"
      },
      "execution_count": null,
      "outputs": [
        {
          "output_type": "stream",
          "name": "stdout",
          "text": [
            "🍀 Welcome to the Lucky Charm Game!\n",
            "Pick your lucky charm (Clover, Rabbit Foot, Lucky Coin, Horseshoe, Fortune Cookie): Fortune Cookie\n",
            "The charm of the day is: Clover\n",
            "💤 Not today... try your luck tomorrow!\n"
          ]
        }
      ]
    },
    {
      "cell_type": "markdown",
      "source": [
        "Problem 3: Reverse String\n",
        "\n",
        "Write a function that reverses a string. The input string is given as a list of characters.\n",
        "\n",
        "Do not use extra variable for another array; you must do this by modifying the input array in place with O(1) extra memory. You may assume all the characters consist of printable ASCII characters.\n",
        "\n",
        "\n",
        "\n",
        "Example 1: Input: [\"h\",\"e\",\"l\",\"l\",\"o\"] Output: [\"o\",\"l\",\"l\",\"e\",\"h\"]\n",
        "\n",
        "Example 2: Input: [\"H\",\"a\",\"n\",\"n\",\"a\",\"h\"] Output: [\"h\",\"a\",\"n\",\"n\",\"a\",\"H\"]\n",
        "\n",
        ""
      ],
      "metadata": {
        "id": "bnU4luo3_jel"
      }
    },
    {
      "cell_type": "code",
      "source": [
        "def reverse_string(s):\n",
        "  \"\"\"\n",
        "  Reverses a string in-place.\n",
        "\n",
        "  Args:\n",
        "    s: A list of characters representing the string.\n",
        "\n",
        "  Returns:\n",
        "    None. The input list is modified in-place.\n",
        "  \"\"\"\n",
        "  left, right = 0, len(s) - 1\n",
        "  while left < right:\n",
        "    s[left], s[right] = s[right], s[left]\n",
        "    left += 1\n",
        "    right -= 1\n",
        "\n",
        "# Example usage\n",
        "string1 = list(\"hello\")\n",
        "reverse_string(string1)\n",
        "print(\"\".join(string1))  # Output: olleh\n",
        "string2 = list(\"Hananh\")\n",
        "reverse_string(string2)\n",
        "print(\"\".join(string2))  # Output: Hannah"
      ],
      "metadata": {
        "colab": {
          "base_uri": "https://localhost:8080/"
        },
        "id": "5SEJNeGZ_hSd",
        "outputId": "cc7cf772-7f5b-409e-8cb9-eb15c305e3b0"
      },
      "execution_count": 3,
      "outputs": [
        {
          "output_type": "stream",
          "name": "stdout",
          "text": [
            "olleh\n",
            "hnanaH\n"
          ]
        }
      ]
    },
    {
      "cell_type": "markdown",
      "source": [
        "Vibe coding\n",
        "\n",
        "Guide:\n",
        "\n",
        "Replace the “robotic” problem with something you like (sports, food, hobbies, funny inside jokes).\n",
        "\n",
        "Add a goal or story. Make it a mission or challenge.\n",
        "\n",
        "Example “Text Fixer: Fix That Typo”:  \n",
        "\n",
        "You just realized you accidentally typed your entire message backwards while texting someone — maybe you were too tired, typing in the dark, or your sibling pranked you.\n",
        "\n",
        "Your goal is to write a program that flips your message back to normal so you can resend it like nothing happened 😅.\n",
        "\n",
        "Reverse a string using slicing: text[::-1]\n"
      ],
      "metadata": {
        "id": "uFhUCROr_s91"
      }
    },
    {
      "cell_type": "code",
      "source": [
        "print(\"✍️ Welcome to Text Fixer!\")\n",
        "\n",
        "text = input(\"Paste your messy sentence here: \")\n",
        "\n",
        "# Fix common issues\n",
        "fixed = text[::-1]\n",
        "if not fixed.endswith('.'):\n",
        "    fixed += '.'\n",
        "\n",
        "print(\"✅ Cleaned Text:\")\n",
        "print(fixed)\n"
      ],
      "metadata": {
        "colab": {
          "base_uri": "https://localhost:8080/"
        },
        "id": "L4Hgsvf0YP0F",
        "outputId": "7cf1acbc-3aaf-4a61-ec87-a3198ed0e960"
      },
      "execution_count": null,
      "outputs": [
        {
          "output_type": "stream",
          "name": "stdout",
          "text": [
            "✍️ Welcome to Text Fixer!\n",
            "Paste your messy sentence here: gnidoc ebiv\n",
            "✅ Cleaned Text:\n",
            "vibe coding.\n"
          ]
        }
      ]
    }
  ]
}