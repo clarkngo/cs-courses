{
 "cells": [
  {
   "cell_type": "code",
   "execution_count": 13,
   "metadata": {},
   "outputs": [],
   "source": [
    "# Import Libraries\n",
    "import os\n",
    "import sys\n",
    "import numpy as np\n",
    "import neurolab as nl\n",
    "import matplotlib.pyplot as plt\n",
    "\n",
    "# Load Data\n",
    "# http://ai.stanford.edu/~btaskar/ocr/\n",
    "input_file = 'letter.data'"
   ]
  },
  {
   "cell_type": "code",
   "execution_count": 14,
   "metadata": {},
   "outputs": [],
   "source": [
    "# Set Parameters so that the neural network will be trained with 50 data points\n",
    "# and only for abcd\n",
    "num_datapoints = 50\n",
    "orig_labels = 'abcd'\n",
    "num_orig_labels = len(orig_labels)\n",
    "\n"
   ]
  },
  {
   "cell_type": "code",
   "execution_count": 15,
   "metadata": {},
   "outputs": [],
   "source": [
    "# Create a 80/20 train/test set split\n",
    "num_train = int(0.8 * num_datapoints)\n",
    "num_test = num_datapoints - num_train\n",
    "\n",
    "start = 6\n",
    "end = -1\n",
    "\n",
    "# Create data set\n",
    "data = []\n",
    "labels = []\n",
    "with open(input_file, 'r') as f:\n",
    "    for line in f.readlines():\n",
    "        # Split the current line tabwise\n",
    "        list_vals = line.split('\\t')\n",
    "        # Check if the label is in our ground truth\n",
    "        # labels. If not, we should skip it.\n",
    "        if list_vals[1] not in orig_labels:\n",
    "            continue\n",
    "        # Extract the current label and append it\n",
    "        # to the main list\n",
    "        label = np.zeros((num_orig_labels, 1))\n",
    "        label[orig_labels.index(list_vals[1])] = 1\n",
    "        labels.append(label)\n",
    "\n",
    "        # Extract the character vector and append it to the main list\n",
    "        cur_char = np.array([float(x) for x in list_vals[start:end]])\n",
    "        data.append(cur_char)\n",
    "        \n",
    "        # Exit the loop once the required dataset has been created\n",
    "        if len(data) >= num_datapoints:\n",
    "            break\n",
    "\n",
    "# Convert the data and labels to numpy arrays\n",
    "data = np.asfarray(data)\n",
    "labels = np.array(labels).reshape(num_datapoints, num_orig_labels)\n",
    "\n",
    "# Extract the number of dimensions\n",
    "num_dims = len(data[0])\n",
    "\n",
    "# Extract the number of dimensions\n",
    "num_dims = len(data[0])"
   ]
  },
  {
   "cell_type": "code",
   "execution_count": 16,
   "metadata": {},
   "outputs": [
    {
     "name": "stdout",
     "output_type": "stream",
     "text": [
      "Epoch: 100; Error: 19.66708331349691;\n",
      "Epoch: 200; Error: 16.063969810150756;\n",
      "Epoch: 300; Error: 5.180398699624858;\n",
      "Epoch: 400; Error: 1.1131445155232165;\n",
      "Epoch: 500; Error: 0.4620050275272952;\n",
      "Epoch: 600; Error: 0.42062956478255176;\n",
      "Epoch: 700; Error: 0.30826380105971096;\n",
      "Epoch: 800; Error: 0.23504822021441704;\n",
      "Epoch: 900; Error: 0.18698371788141982;\n",
      "Epoch: 1000; Error: 0.15031701335783618;\n",
      "Epoch: 1100; Error: 0.12339068450123614;\n",
      "Epoch: 1200; Error: 0.10285294655307757;\n",
      "Epoch: 1300; Error: 0.0888010002455998;\n",
      "Epoch: 1400; Error: 0.0767281812016048;\n",
      "Epoch: 1500; Error: 0.06866215050572064;\n",
      "Epoch: 1600; Error: 0.06239985875641489;\n",
      "Epoch: 1700; Error: 0.056767557808688404;\n",
      "Epoch: 1800; Error: 0.05284971681451009;\n",
      "Epoch: 1900; Error: 0.04974041973448905;\n",
      "Epoch: 2000; Error: 0.04655203216531824;\n",
      "Epoch: 2100; Error: 0.043918108923011887;\n",
      "Epoch: 2200; Error: 0.04190370346537034;\n",
      "Epoch: 2300; Error: 0.03982981408879201;\n",
      "Epoch: 2400; Error: 0.03773041275899548;\n",
      "Epoch: 2500; Error: 0.03601538155510059;\n",
      "Epoch: 2600; Error: 0.03455548181129039;\n",
      "Epoch: 2700; Error: 0.033049444872662884;\n",
      "Epoch: 2800; Error: 0.031576523515811805;\n",
      "Epoch: 2900; Error: 0.030332096267936294;\n",
      "Epoch: 3000; Error: 0.029257643343169795;\n",
      "Epoch: 3100; Error: 0.028194003530266586;\n",
      "Epoch: 3200; Error: 0.0271400737165639;\n",
      "Epoch: 3300; Error: 0.026195124347251415;\n",
      "Epoch: 3400; Error: 0.0253762533428322;\n",
      "Epoch: 3500; Error: 0.024607582611390712;\n",
      "Epoch: 3600; Error: 0.023842631446059553;\n",
      "Epoch: 3700; Error: 0.0231098561669714;\n",
      "Epoch: 3800; Error: 0.02244957073364081;\n",
      "Epoch: 3900; Error: 0.0218540037526957;\n",
      "Epoch: 4000; Error: 0.021284684221524502;\n",
      "Epoch: 4100; Error: 0.020723037877290684;\n",
      "Epoch: 4200; Error: 0.02018344049402216;\n",
      "Epoch: 4300; Error: 0.019685698267737455;\n",
      "Epoch: 4400; Error: 0.019228512297399178;\n",
      "Epoch: 4500; Error: 0.018793309341960867;\n",
      "Epoch: 4600; Error: 0.01836646356697128;\n",
      "Epoch: 4700; Error: 0.017950741475157884;\n",
      "Epoch: 4800; Error: 0.017557295778906697;\n",
      "Epoch: 4900; Error: 0.017191140043924868;\n",
      "Epoch: 5000; Error: 0.016845935457079256;\n",
      "Epoch: 5100; Error: 0.01651139811162874;\n",
      "Epoch: 5200; Error: 0.016183058848449332;\n",
      "Epoch: 5300; Error: 0.015864442777518507;\n",
      "Epoch: 5400; Error: 0.015561562706843713;\n",
      "Epoch: 5500; Error: 0.015276249878648236;\n",
      "Epoch: 5600; Error: 0.015004477645660222;\n",
      "Epoch: 5700; Error: 0.014740336381045181;\n",
      "Epoch: 5800; Error: 0.014480988024742455;\n",
      "Epoch: 5900; Error: 0.014228090125808975;\n",
      "Epoch: 6000; Error: 0.013985286274144616;\n",
      "Epoch: 6100; Error: 0.013754512018365722;\n",
      "Epoch: 6200; Error: 0.013534242982993841;\n",
      "Epoch: 6300; Error: 0.01332084867449571;\n",
      "Epoch: 6400; Error: 0.01311147753907627;\n",
      "Epoch: 6500; Error: 0.01290588943101556;\n",
      "Epoch: 6600; Error: 0.01270603456551326;\n",
      "Epoch: 6700; Error: 0.012514094898434735;\n",
      "Epoch: 6800; Error: 0.012330609046717267;\n",
      "Epoch: 6900; Error: 0.012154026812600425;\n",
      "Epoch: 7000; Error: 0.011981876895047573;\n",
      "Epoch: 7100; Error: 0.011812480752087046;\n",
      "Epoch: 7200; Error: 0.011645884586311396;\n",
      "Epoch: 7300; Error: 0.011483494997270057;\n",
      "Epoch: 7400; Error: 0.011326861342007577;\n",
      "Epoch: 7500; Error: 0.011176488233583021;\n",
      "Epoch: 7600; Error: 0.011031447503286086;\n",
      "Epoch: 7700; Error: 0.010889995596032064;\n",
      "Epoch: 7800; Error: 0.01075068992612181;\n",
      "Epoch: 7900; Error: 0.010613195559936072;\n",
      "Epoch: 8000; Error: 0.010478307455732461;\n",
      "Epoch: 8100; Error: 0.010347288921630345;\n",
      "Epoch: 8200; Error: 0.010220990157467875;\n",
      "Epoch: 8300; Error: 0.01009927126115308;\n",
      "The goal of learning is reached\n"
     ]
    }
   ],
   "source": [
    "# Create a feedforward neural network to perform OCR\n",
    "nn = nl.net.newff([[0, 1] for _ in range(len(data[0]))], \n",
    "        [128, 16, num_orig_labels])\n",
    "# Set the training algorithm to gradient descent \n",
    "nn.trainf = nl.train.train_gd\n",
    "\n",
    "# Train the network\n",
    "error_progress = nn.train(data[:num_train,:], labels[:num_train,:], \n",
    "        epochs=10000, show=100, goal=0.01)\n"
   ]
  },
  {
   "cell_type": "code",
   "execution_count": 17,
   "metadata": {},
   "outputs": [
    {
     "data": {
      "image/png": "[encoded data removed]",
      "text/plain": [
       "<Figure size 432x288 with 1 Axes>"
      ]
     },
     "metadata": {
      "needs_background": "light"
     },
     "output_type": "display_data"
    }
   ],
   "source": [
    "# Plot the error over epochs\n",
    "# Plotting error\n",
    "plt.figure() \n",
    "plt.plot(error_progress)\n",
    "plt.xlabel('Number of epochs')\n",
    "plt.ylabel('Error')\n",
    "plt.title('Training error progress')\n",
    "plt.show()"
   ]
  },
  {
   "cell_type": "code",
   "execution_count": 18,
   "metadata": {},
   "outputs": [
    {
     "name": "stdout",
     "output_type": "stream",
     "text": [
      "\n",
      "Testing on unknown data:\n",
      "\n",
      "Original: a\n",
      "Predicted: a\n",
      "\n",
      "Original: d\n",
      "Predicted: d\n",
      "\n",
      "Original: a\n",
      "Predicted: a\n",
      "\n",
      "Original: d\n",
      "Predicted: d\n",
      "\n",
      "Original: a\n",
      "Predicted: a\n",
      "\n",
      "Original: d\n",
      "Predicted: d\n",
      "\n",
      "Original: a\n",
      "Predicted: a\n",
      "\n",
      "Original: d\n",
      "Predicted: d\n",
      "\n",
      "Original: a\n",
      "Predicted: a\n",
      "\n",
      "Original: d\n",
      "Predicted: d\n"
     ]
    }
   ],
   "source": [
    "# Predict the output for test inputs \n",
    "print('\\nTesting on unknown data:') \n",
    "predicted_test = nn.sim(data[num_train:, :]) \n",
    "for i in range(num_test):\n",
    "    print('\\nOriginal:', orig_labels[np.argmax(labels[i])]) \n",
    "    print('Predicted:', orig_labels[np.argmax(predicted_test[i])])\n",
    "\n",
    "\n"
   ]
  },
  {
   "cell_type": "code",
   "execution_count": 26,
   "metadata": {},
   "outputs": [
    {
     "name": "stdout",
     "output_type": "stream",
     "text": [
      "Accuracy:  100.0 %\n"
     ]
    }
   ],
   "source": [
    "# Calculate the accuracy of the predictions \n",
    "correct = [orig_labels[np.argmax(labels[i])] == orig_labels[np.argmax(predicted_test[i])] for i in range(num_test)]\n",
    "accuracy = sum(correct) / num_test\n",
    "print(\"Accuracy: \", accuracy * 100, \"%\")"
   ]
  }
 ],
 "metadata": {
  "kernelspec": {
   "display_name": "Python 3.10.6 64-bit",
   "language": "python",
   "name": "python3"
  },
  "language_info": {
   "codemirror_mode": {
    "name": "ipython",
    "version": 3
   },
   "file_extension": ".py",
   "mimetype": "text/x-python",
   "name": "python",
   "nbconvert_exporter": "python",
   "pygments_lexer": "ipython3",
   "version": "3.10.6"
  },
  "orig_nbformat": 4,
  "vscode": {
   "interpreter": {
    "hash": "0f371759e1980ccf286053f8de1970d392301de162fd4131aa9fd28674cd7968"
   }
  }
 },
 "nbformat": 4,
 "nbformat_minor": 2
}
