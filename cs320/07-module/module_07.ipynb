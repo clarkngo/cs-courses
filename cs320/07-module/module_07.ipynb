{
  "nbformat": 4,
  "nbformat_minor": 0,
  "metadata": {
    "colab": {
      "provenance": []
    },
    "kernelspec": {
      "name": "python3",
      "display_name": "Python 3"
    },
    "language_info": {
      "name": "python"
    }
  },
  "cells": [
    {
      "cell_type": "code",
      "execution_count": 23,
      "metadata": {
        "id": "oNA-pqlnsdWJ"
      },
      "outputs": [],
      "source": [
        "import gzip\n",
        "import shutil\n",
        "with gzip.open(\"sample_data/letter.data.gz\", 'rb') as f_in:\n",
        "    with open(\"letter.data\", 'wb') as f_out:\n",
        "        shutil.copyfileobj(f_in, f_out)"
      ]
    },
    {
      "cell_type": "code",
      "source": [
        "!pip3 install numpy==1.26.4 neurolab matplotlib"
      ],
      "metadata": {
        "colab": {
          "base_uri": "https://localhost:8080/"
        },
        "id": "fC3xQ9fbwOfV",
        "outputId": "8f110b4b-e455-4e9e-e08e-3f1b29cc8d6a"
      },
      "execution_count": 24,
      "outputs": [
        {
          "output_type": "stream",
          "name": "stdout",
          "text": [
            "Requirement already satisfied: numpy==1.26.4 in /usr/local/lib/python3.11/dist-packages (1.26.4)\n",
            "Requirement already satisfied: neurolab in /usr/local/lib/python3.11/dist-packages (0.3.5)\n",
            "Requirement already satisfied: matplotlib in /usr/local/lib/python3.11/dist-packages (3.10.0)\n",
            "Requirement already satisfied: contourpy>=1.0.1 in /usr/local/lib/python3.11/dist-packages (from matplotlib) (1.3.2)\n",
            "Requirement already satisfied: cycler>=0.10 in /usr/local/lib/python3.11/dist-packages (from matplotlib) (0.12.1)\n",
            "Requirement already satisfied: fonttools>=4.22.0 in /usr/local/lib/python3.11/dist-packages (from matplotlib) (4.58.2)\n",
            "Requirement already satisfied: kiwisolver>=1.3.1 in /usr/local/lib/python3.11/dist-packages (from matplotlib) (1.4.8)\n",
            "Requirement already satisfied: packaging>=20.0 in /usr/local/lib/python3.11/dist-packages (from matplotlib) (24.2)\n",
            "Requirement already satisfied: pillow>=8 in /usr/local/lib/python3.11/dist-packages (from matplotlib) (11.2.1)\n",
            "Requirement already satisfied: pyparsing>=2.3.1 in /usr/local/lib/python3.11/dist-packages (from matplotlib) (3.2.3)\n",
            "Requirement already satisfied: python-dateutil>=2.7 in /usr/local/lib/python3.11/dist-packages (from matplotlib) (2.9.0.post0)\n",
            "Requirement already satisfied: six>=1.5 in /usr/local/lib/python3.11/dist-packages (from python-dateutil>=2.7->matplotlib) (1.17.0)\n"
          ]
        }
      ]
    },
    {
      "cell_type": "code",
      "source": [
        "# Import Libraries\n",
        "import numpy as np\n",
        "import neurolab as nl\n",
        "import matplotlib.pyplot as plt"
      ],
      "metadata": {
        "id": "xTCPdEDawGe7"
      },
      "execution_count": 25,
      "outputs": []
    },
    {
      "cell_type": "code",
      "source": [
        "# file is already unzipped and saved as 'letter.data' file\n",
        "input_file = 'letter.data'\n",
        "# we will be using 30 samples from dataset\n",
        "num_samples = 30\n",
        "# training FNN model for 'e' 'f' 'g' 'h' characters\n",
        "orig_labels = 'efgh'\n",
        "num_orig_labels = len(orig_labels)"
      ],
      "metadata": {
        "id": "dK3UxKQpyj8K"
      },
      "execution_count": 26,
      "outputs": []
    },
    {
      "cell_type": "code",
      "source": [
        "# Let's look at first line of data\n",
        "with open(input_file, 'r') as f:\n",
        "    for line in f.readlines():\n",
        "        # Split the current line tabwise\n",
        "        list_vals = line.split('\\t')\n",
        "        print(list_vals)\n",
        "        break"
      ],
      "metadata": {
        "colab": {
          "base_uri": "https://localhost:8080/"
        },
        "id": "WwuWBdf2z1Ya",
        "outputId": "ee68e81c-6037-4e6d-8d22-32947323647d"
      },
      "execution_count": 27,
      "outputs": [
        {
          "output_type": "stream",
          "name": "stdout",
          "text": [
            "['1', 'o', '2', '1', '1', '0', '0', '0', '0', '0', '0', '0', '0', '0', '0', '0', '0', '0', '0', '0', '0', '0', '0', '0', '0', '0', '0', '0', '0', '0', '0', '1', '1', '1', '0', '0', '0', '0', '0', '1', '1', '1', '1', '1', '0', '0', '0', '1', '0', '0', '0', '1', '1', '0', '1', '1', '0', '0', '0', '0', '1', '1', '1', '0', '0', '0', '0', '0', '0', '1', '1', '0', '0', '0', '0', '0', '0', '1', '1', '0', '0', '0', '0', '0', '0', '1', '1', '0', '0', '0', '0', '0', '1', '1', '1', '0', '0', '0', '1', '1', '1', '0', '1', '1', '1', '1', '1', '0', '0', '0', '0', '0', '0', '0', '0', '0', '0', '0', '0', '0', '0', '0', '0', '0', '0', '0', '0', '0', '0', '0', '0', '0', '0', '0', '\\n']\n"
          ]
        }
      ]
    },
    {
      "cell_type": "code",
      "source": [
        "# actual data starts from idx 6 of each data row\n",
        "start = 6\n",
        "end = -1"
      ],
      "metadata": {
        "id": "SV6wjcZ81Kxg"
      },
      "execution_count": 28,
      "outputs": []
    },
    {
      "cell_type": "code",
      "source": [
        "# train data: 90% for train\n",
        "num_train = int(0.9 * num_samples)\n",
        "# remaining test data: num_samples - (90% of data)\n",
        "num_test = num_samples - num_train"
      ],
      "metadata": {
        "id": "jFdyhVgs1U1-"
      },
      "execution_count": 29,
      "outputs": []
    },
    {
      "cell_type": "code",
      "source": [
        "# file is already unzipped and saved as 'letter.data' file\n",
        "input_file = 'letter.data'\n",
        "\n",
        "# we will be using 30 samples from dataset\n",
        "num_samples = 30\n",
        "\n",
        "# training FNN model for 'e' 'f' 'g' 'h' characters\n",
        "orig_labels = 'efgh'\n",
        "num_orig_labels = len(orig_labels)"
      ],
      "metadata": {
        "id": "bJ7-d0rP7CEn"
      },
      "execution_count": 30,
      "outputs": []
    },
    {
      "cell_type": "code",
      "source": [
        "# Create data set\n",
        "data = []\n",
        "labels = []\n",
        "with open(input_file, 'r') as f:\n",
        "    for line in f.readlines():\n",
        "        # Sample data feature is split by tab character\n",
        "        list_vals = line.split(\"\\t\")\n",
        "\n",
        "        # Check if the label is part of training_labels 'e','f','g','h'\n",
        "        if list_vals[1] not in training_labels:\n",
        "            continue\n",
        "\n",
        "        # 1. Extract the current label and append it to the label list:\n",
        "        #    Neural network requires multi output like [0,0,0,1]\n",
        "        #    We will first create empty label holder like [0,0,0,0]\n",
        "        label = np.zeros((num_orig_labels, 1))\n",
        "        # training_labels char is 'e' is at idx 0, label = [1,0,0,0]\n",
        "        label[training_labels.index(list_vals[1])] = 1\n",
        "        # append target/label to labels list to be used for train/test\n",
        "        labels.append(label)\n",
        "\n",
        "        # 2. Extract the training data and append it to the data list:\n",
        "        #    feature data is stored from start(index: 6) ~ end(index: -1)\n",
        "        cur_char_pixel_data = np.array([float(x) for x in list_vals[start:end]])\n",
        "        data.append(cur_char_pixel_data)  # append to training data\n",
        "\n",
        "        # 3. Exit the loop once the required dataset has been created\n",
        "        if len(data) >= num_samples:\n",
        "            break\n",
        "\n",
        "# Convert the data and labels to numpy arrays\n",
        "data = np.asarray(data)\n",
        "labels = np.array(labels).reshape(num_samples, num_orig_labels)\n",
        "\n",
        "# Extract the number of dimensions (i.e. length of pixels in 1D array)\n",
        "num_feat_dims = len(data[0])\n"
      ],
      "metadata": {
        "id": "aJ_6Aqpo167A"
      },
      "execution_count": 31,
      "outputs": []
    },
    {
      "cell_type": "code",
      "source": [
        "# Create a FFN to perform OCR\n",
        "# [Input] layer: inputs are either 0 or 1 for number of feature inputs\n",
        "input_layer = [[0, 1] for _ in range(num_feat_dims)]\n",
        "\n",
        "# [Hidden + output] layer: 3 > 3 neurons hidden layers and 4 for output\n",
        "hidden_output_layer = [3, 3, num_orig_labels]\n",
        "\n",
        "nn = nl.net.newff(input_layer, hidden_output_layer)\n",
        "print(\"Input: \", nn.ci)\n",
        "print(\"Output: \", nn.co)\n",
        "\n",
        "# Set the training optimizer to gradient descent\n",
        "nn.trainf = nl.train.train_gd\n"
      ],
      "metadata": {
        "colab": {
          "base_uri": "https://localhost:8080/"
        },
        "id": "yMa80AtO80y_",
        "outputId": "91030612-7b8d-40e3-9203-5af3ffbd2f00"
      },
      "execution_count": 32,
      "outputs": [
        {
          "output_type": "stream",
          "name": "stdout",
          "text": [
            "Input:  128\n",
            "Output:  4\n"
          ]
        }
      ]
    },
    {
      "cell_type": "code",
      "source": [
        "# Train the network\n",
        "error_progress = nn.train(data[:num_train, :], labels[:num_train, :],\n",
        "                          epochs=500, show=100, goal=0.001)\n"
      ],
      "metadata": {
        "colab": {
          "base_uri": "https://localhost:8080/"
        },
        "id": "uK4gr5_D_JXp",
        "outputId": "d68053ef-218e-4047-9ac6-315cec4b87cb"
      },
      "execution_count": 33,
      "outputs": [
        {
          "output_type": "stream",
          "name": "stdout",
          "text": [
            "Epoch: 100; Error: 0.021598300029319558;\n",
            "Epoch: 200; Error: 0.010047651996984423;\n",
            "Epoch: 300; Error: 0.006581862588973691;\n",
            "Epoch: 400; Error: 0.004905877283219091;\n",
            "Epoch: 500; Error: 0.003915656532300445;\n",
            "The maximum number of train epochs is reached\n"
          ]
        }
      ]
    },
    {
      "cell_type": "code",
      "source": [
        "# Plot the error over epochs\n",
        "plt.figure()\n",
        "plt.title('Training error progress')\n",
        "plt.xlabel('Number of epochs')\n",
        "plt.ylabel('Error')\n",
        "plt.plot(error_progress)\n",
        "plt.show()\n"
      ],
      "metadata": {
        "colab": {
          "base_uri": "https://localhost:8080/",
          "height": 472
        },
        "id": "SK6_fHN-_a4r",
        "outputId": "1e9abb51-6339-4d5a-e06a-dcc7b735751f"
      },
      "execution_count": 34,
      "outputs": [
        {
          "output_type": "display_data",
          "data": {
            "text/plain": [
              "<Figure size 640x480 with 1 Axes>"
            ],
            "image/png": "[encoded data removed]"
          },
          "metadata": {}
        }
      ]
    },
    {
      "cell_type": "code",
      "source": [
        "# Predict the output for test inputs\n",
        "print('\\nTesting on unknown data:')\n",
        "predicted_test = nn.sim(data[num_test:, :])\n",
        "for i in range(num_test):\n",
        "    print('\\nOriginal:', training_labels[np.argmax(labels[i])])\n",
        "    print('Predicted:', training_labels[np.argmax(predicted_test[i])])\n"
      ],
      "metadata": {
        "colab": {
          "base_uri": "https://localhost:8080/"
        },
        "id": "NQb9_iTy_mQ1",
        "outputId": "3517a56e-d47a-4967-d3a5-1b67d65f7f5a"
      },
      "execution_count": 35,
      "outputs": [
        {
          "output_type": "stream",
          "name": "stdout",
          "text": [
            "\n",
            "Testing on unknown data:\n",
            "\n",
            "Original: g\n",
            "Predicted: g\n",
            "\n",
            "Original: g\n",
            "Predicted: g\n",
            "\n",
            "Original: g\n",
            "Predicted: g\n"
          ]
        }
      ]
    },
    {
      "cell_type": "code",
      "source": [
        "# Calculate the accuracy of the predictions\n",
        "correct = 0\n",
        "for i in range(num_test):\n",
        "    ground_truth_label = training_labels[np.argmax(labels[i])]\n",
        "    predicted_label = training_labels[np.argmax(predicted_test[i])]\n",
        "    if ground_truth_label == predicted_label:\n",
        "        correct += 1\n",
        "\n",
        "accuracy = correct / num_test\n",
        "print(\"Accuracy: \", accuracy * 100, \"%\")\n"
      ],
      "metadata": {
        "colab": {
          "base_uri": "https://localhost:8080/"
        },
        "id": "G9KucKFL_1xA",
        "outputId": "a2d21071-db8c-4708-d8fd-b3674d979f9a"
      },
      "execution_count": 36,
      "outputs": [
        {
          "output_type": "stream",
          "name": "stdout",
          "text": [
            "Accuracy:  100.0 %\n"
          ]
        }
      ]
    },
    {
      "cell_type": "markdown",
      "source": [
        "Vibe Coding\n",
        "\n",
        "Neural Network Classifier for Handwritten Characters\n",
        "\n",
        "Scenario:\n",
        " You're a software engineer building an OCR (Optical Character Recognition) tool for a postal service. The machine needs to automatically classify letters on scanned envelopes, but only for the most common misread characters: E, F, G, and H.\n",
        "\n",
        "Dataset:\n",
        " The file letter.data is already loaded in the root folder. It contains tab-separated values where:\n",
        "\n",
        "The second column is the character label ('e', 'f', 'g', 'h')\n",
        "\n",
        "Starting from index 6 to the second-to-last column are pixel values (features)\n",
        "\n",
        "Tasks:\n",
        "\n",
        "Load and preprocess the dataset.\n",
        "\n",
        "One-hot encode the character labels.\n",
        "\n",
        "Create and train a Feedforward Neural Network using Neurolab.\n",
        "\n",
        "Visualize training error.\n",
        "\n",
        "Predict and evaluate model accuracy on test data."
      ],
      "metadata": {
        "id": "6NqyJG5WDLJV"
      }
    },
    {
      "cell_type": "code",
      "source": [
        "# Setup\n",
        "import numpy as np\n",
        "import neurolab as nl\n",
        "import matplotlib.pyplot as plt\n",
        "\n",
        "input_file = 'letter.data'\n",
        "orig_labels = 'efgh'\n",
        "training_labels = list(orig_labels)\n",
        "num_orig_labels = len(orig_labels)\n",
        "num_samples = 30\n",
        "start, end = 6, -1\n",
        "\n",
        "# Load data\n",
        "data, labels = [], []\n",
        "with open(input_file, 'r') as f:\n",
        "    for line in f.readlines():\n",
        "        list_vals = line.strip().split('\\t')\n",
        "        if list_vals[1] not in training_labels:\n",
        "            continue\n",
        "        label = np.zeros((num_orig_labels, 1))\n",
        "        label[training_labels.index(list_vals[1])] = 1\n",
        "        labels.append(label)\n",
        "        pixel_data = np.array([float(x) for x in list_vals[start:end]])\n",
        "        data.append(pixel_data)\n",
        "        if len(data) >= num_samples:\n",
        "            break\n",
        "\n",
        "# Convert to arrays\n",
        "data = np.asarray(data)\n",
        "labels = np.array(labels).reshape(num_samples, num_orig_labels)\n",
        "num_feat_dims = len(data[0])\n",
        "\n",
        "# Split into train/test\n",
        "num_train = int(0.7 * num_samples)\n",
        "num_test = num_samples - num_train\n",
        "\n",
        "# Create FFN\n",
        "input_layer = [[0, 1]] * num_feat_dims\n",
        "hidden_output_layer = [3, 3, num_orig_labels]\n",
        "nn = nl.net.newff(input_layer, hidden_output_layer)\n",
        "nn.trainf = nl.train.train_gd\n",
        "\n",
        "# Train model\n",
        "error_progress = nn.train(data[:num_train, :], labels[:num_train, :],\n",
        "                          epochs=500, show=100, goal=0.001)\n",
        "\n",
        "# Plot error\n",
        "plt.figure()\n",
        "plt.title(\"Training error progress\")\n",
        "plt.xlabel(\"Number of epochs\")\n",
        "plt.ylabel(\"Error\")\n",
        "plt.plot(error_progress)\n",
        "plt.show()\n",
        "\n",
        "# Predict\n",
        "predicted_test = nn.sim(data[num_test:, :])\n",
        "print(\"\\nTesting on unknown data:\")\n",
        "for i in range(num_test):\n",
        "    print(\"\\nOriginal:\", training_labels[np.argmax(labels[i])])\n",
        "    print(\"Predicted:\", training_labels[np.argmax(predicted_test[i])])\n",
        "\n",
        "# Accuracy\n",
        "correct = 0\n",
        "for i in range(num_test):\n",
        "    actual = training_labels[np.argmax(labels[i])]\n",
        "    predicted = training_labels[np.argmax(predicted_test[i])]\n",
        "    if actual == predicted:\n",
        "        correct += 1\n",
        "\n",
        "accuracy = correct / num_test\n",
        "print(\"Accuracy:\", accuracy * 100, \"%\")\n"
      ],
      "metadata": {
        "colab": {
          "base_uri": "https://localhost:8080/",
          "height": 1000
        },
        "id": "tyzi_YMuDKFH",
        "outputId": "f885f3e5-b809-470d-86b8-4f3ff682209f"
      },
      "execution_count": 38,
      "outputs": [
        {
          "output_type": "stream",
          "name": "stdout",
          "text": [
            "Epoch: 100; Error: 10.52172181724933;\n",
            "Epoch: 200; Error: 10.506368327871234;\n",
            "Epoch: 300; Error: 10.501324925629072;\n",
            "Epoch: 400; Error: 10.498304160731722;\n",
            "Epoch: 500; Error: 10.495827223101688;\n",
            "The maximum number of train epochs is reached\n"
          ]
        },
        {
          "output_type": "display_data",
          "data": {
            "text/plain": [
              "<Figure size 640x480 with 1 Axes>"
            ],
            "image/png": "[encoded data removed]"
          },
          "metadata": {}
        },
        {
          "output_type": "stream",
          "name": "stdout",
          "text": [
            "\n",
            "Testing on unknown data:\n",
            "\n",
            "Original: g\n",
            "Predicted: g\n",
            "\n",
            "Original: g\n",
            "Predicted: g\n",
            "\n",
            "Original: g\n",
            "Predicted: g\n",
            "\n",
            "Original: g\n",
            "Predicted: g\n",
            "\n",
            "Original: g\n",
            "Predicted: g\n",
            "\n",
            "Original: g\n",
            "Predicted: g\n",
            "\n",
            "Original: g\n",
            "Predicted: g\n",
            "\n",
            "Original: g\n",
            "Predicted: g\n",
            "\n",
            "Original: g\n",
            "Predicted: g\n",
            "Accuracy: 100.0 %\n"
          ]
        }
      ]
    }
  ]
}