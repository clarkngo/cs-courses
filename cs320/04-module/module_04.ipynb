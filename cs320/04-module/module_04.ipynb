{
  "nbformat": 4,
  "nbformat_minor": 0,
  "metadata": {
    "colab": {
      "provenance": []
    },
    "kernelspec": {
      "name": "python3",
      "display_name": "Python 3"
    },
    "language_info": {
      "name": "python"
    }
  },
  "cells": [
    {
      "cell_type": "code",
      "execution_count": null,
      "metadata": {
        "colab": {
          "base_uri": "https://localhost:8080/"
        },
        "id": "ytpPgDXWfI3-",
        "outputId": "607d78f1-9cab-4125-b1b6-ef8a033845a2"
      },
      "outputs": [
        {
          "output_type": "stream",
          "name": "stdout",
          "text": [
            "Give a limit: 5\n",
            "[0, 1, 2, 3, 4]\n"
          ]
        }
      ],
      "source": [
        "def numbers(limit):\n",
        "  i = 0\n",
        "  numbers = []\n",
        "\n",
        "  while i < limit:\n",
        "    numbers.append(i)\n",
        "    i = i + 1\n",
        "  return numbers\n",
        "\n",
        "user_limit = int(input(\"Give a limit: \"))\n",
        "print(numbers(user_limit))"
      ]
    },
    {
      "cell_type": "code",
      "source": [
        "def print_me(text):\n",
        "  print(text)\n",
        "# Now you can call print_me function\n",
        "print_me(\"First call to user defined function\")\n",
        "print_me(\"Second call to user defined function\")"
      ],
      "metadata": {
        "colab": {
          "base_uri": "https://localhost:8080/"
        },
        "id": "sjqB-ga9kaGn",
        "outputId": "7b643a2f-377f-4984-a552-66f513d7ecc6"
      },
      "execution_count": null,
      "outputs": [
        {
          "output_type": "stream",
          "name": "stdout",
          "text": [
            "First call to user defined function\n",
            "Second call to user defined function\n"
          ]
        }
      ]
    },
    {
      "cell_type": "code",
      "source": [
        "def describe_pet(animal_type, pet_name):\n",
        "  print(f\"\\nI have a {animal_type}.\")\n",
        "  print(f\"My {animal_type}'s name is {pet_name.title()}.\")\n",
        "\n",
        "describe_pet('hamster', 'harry')"
      ],
      "metadata": {
        "colab": {
          "base_uri": "https://localhost:8080/"
        },
        "id": "cMPCzy_nk6Zw",
        "outputId": "5be0c464-fda2-4259-93a7-7cfa3cfcde41"
      },
      "execution_count": null,
      "outputs": [
        {
          "output_type": "stream",
          "name": "stdout",
          "text": [
            "\n",
            "I have a hamster.\n",
            "My hamster's name is Harry.\n"
          ]
        }
      ]
    },
    {
      "cell_type": "code",
      "source": [
        "# Challenge\n",
        "def describe_pet(animal_type, pet_name):\n",
        "  print(f\"\\nI have a {animal_type}.\")\n",
        "  print(f\"My {animal_type}'s name is {pet_name.title()}.\")\n",
        "\n",
        "describe_pet('hamster', 'harry')\n",
        "describe_pet('dog', 'willie')"
      ],
      "metadata": {
        "colab": {
          "base_uri": "https://localhost:8080/"
        },
        "id": "DXa8HeZimBo_",
        "outputId": "3265e7fa-add1-4d66-8237-c17eaedb74c3"
      },
      "execution_count": null,
      "outputs": [
        {
          "output_type": "stream",
          "name": "stdout",
          "text": [
            "\n",
            "I have a hamster.\n",
            "My hamster's name is Harry.\n",
            "\n",
            "I have a dog.\n",
            "My dog's name is Willie.\n"
          ]
        }
      ]
    },
    {
      "cell_type": "code",
      "source": [
        "def menu(item, quantity, **restaurant):\n",
        "  restaurant['Item'] = item\n",
        "  restaurant['Quantity'] = quantity\n",
        "  return restaurant\n",
        "\n",
        "restaurant = menu('soup', '1', Location='seattle', Zipcode='98019')\n",
        "print(restaurant)"
      ],
      "metadata": {
        "colab": {
          "base_uri": "https://localhost:8080/"
        },
        "id": "r4oB_lL5mO_H",
        "outputId": "7d031981-e583-47c1-df65-005d9ad81ed2"
      },
      "execution_count": null,
      "outputs": [
        {
          "output_type": "stream",
          "name": "stdout",
          "text": [
            "{'Location': 'seattle', 'Zipcode': '98019', 'Item': 'soup', 'Quantity': '1'}\n"
          ]
        }
      ]
    },
    {
      "cell_type": "code",
      "source": [
        "file = open('sample_data/hello.txt')\n",
        "print(file.read())"
      ],
      "metadata": {
        "id": "bCzrkNuqqhLd",
        "colab": {
          "base_uri": "https://localhost:8080/"
        },
        "outputId": "3ad4b5a5-294f-4a31-f3e8-ba5d26b87fd0"
      },
      "execution_count": null,
      "outputs": [
        {
          "output_type": "stream",
          "name": "stdout",
          "text": [
            "Hello World\n"
          ]
        }
      ]
    },
    {
      "cell_type": "code",
      "source": [
        "with open('sample_data/hello.txt') as file_object:\n",
        "  contents = file_object.read()\n",
        "print(contents)"
      ],
      "metadata": {
        "colab": {
          "base_uri": "https://localhost:8080/"
        },
        "id": "ApDHAqfbwgEK",
        "outputId": "628139bd-baad-4621-bc05-d49c623d902b"
      },
      "execution_count": null,
      "outputs": [
        {
          "output_type": "stream",
          "name": "stdout",
          "text": [
            "Hello World\n"
          ]
        }
      ]
    },
    {
      "cell_type": "code",
      "source": [
        "with open('sample_data/hello.txt') as file_object:\n",
        "  contents = file_object.read()\n",
        "print(contents.rstrip())"
      ],
      "metadata": {
        "colab": {
          "base_uri": "https://localhost:8080/"
        },
        "id": "Bl8JvcFtx1EY",
        "outputId": "9204980e-a150-4a3e-e3f1-4879adad686a"
      },
      "execution_count": null,
      "outputs": [
        {
          "output_type": "stream",
          "name": "stdout",
          "text": [
            "Hello World\n"
          ]
        }
      ]
    },
    {
      "cell_type": "code",
      "source": [
        "file = open('sample_data/hello.txt', 'a')\n",
        "file.write('\\nThis is new content I just appended')\n",
        "file.close()\n",
        "\n",
        "new_file = open('sample_data/world.txt', 'w')\n",
        "new_file.write('This is new file')\n",
        "new_file.close()\n",
        "\n",
        "file = open('sample_data/hello.txt')\n",
        "content = file.read()\n",
        "file.close()\n",
        "print(content)"
      ],
      "metadata": {
        "colab": {
          "base_uri": "https://localhost:8080/"
        },
        "id": "4xZcHBjyyi8H",
        "outputId": "8d5f55f6-b4f8-4b55-e100-c3f671f4c951"
      },
      "execution_count": null,
      "outputs": [
        {
          "output_type": "stream",
          "name": "stdout",
          "text": [
            "Hello World\n",
            "This is new content I just appended\n",
            "This is new content I just appended\n",
            "This is new content I just appended\n",
            "This is new content I just appended\n",
            "This is new content I just appended\n",
            "This is new content I just appended\n",
            "This is new content I just appended\n",
            "This is new content I just appended\n"
          ]
        }
      ]
    },
    {
      "cell_type": "code",
      "source": [
        "filename = 'sample_data/hello.txt'\n",
        "\n",
        "with open(filename) as file_object:\n",
        "  lines = file_object.readlines()\n",
        "\n",
        "for line in lines:\n",
        "  print(line.rstrip())"
      ],
      "metadata": {
        "colab": {
          "base_uri": "https://localhost:8080/"
        },
        "id": "bUTYanDi17Xa",
        "outputId": "0fe80342-c089-4e7b-952f-271b07df3f0c"
      },
      "execution_count": null,
      "outputs": [
        {
          "output_type": "stream",
          "name": "stdout",
          "text": [
            "Hello World\n",
            "This is new content I just appended\n",
            "This is new content I just appended\n",
            "This is new content I just appended\n",
            "This is new content I just appended\n",
            "This is new content I just appended\n",
            "This is new content I just appended\n"
          ]
        }
      ]
    },
    {
      "cell_type": "code",
      "source": [
        "# Define a function that logs a journal entry to a file\n",
        "def write_journal(entry):\n",
        "    with open(\"my_journal.txt\", \"a\") as file:\n",
        "        file.write(entry + \"\\n\")\n",
        "    print(\"Entry saved!\")\n",
        "\n",
        "# Define a function that reads the entire journal\n",
        "def read_journal():\n",
        "    with open(\"my_journal.txt\", \"r\") as file:\n",
        "        content = file.read()\n",
        "    print(\"Your Journal:\\n\" + content)\n",
        "\n",
        "# Let's use the functions!\n",
        "write_journal(\"Today I learned about vibe coding and file handling in Python.\")\n",
        "write_journal(\"I'm starting to feel like a real programmer!\")\n",
        "read_journal()\n"
      ],
      "metadata": {
        "id": "Agc1VXGj4OYZ",
        "outputId": "35c6e8d2-8f54-4594-d560-31ce7b3f5d96",
        "colab": {
          "base_uri": "https://localhost:8080/"
        }
      },
      "execution_count": null,
      "outputs": [
        {
          "output_type": "stream",
          "name": "stdout",
          "text": [
            "Entry saved!\n",
            "Entry saved!\n",
            "Your Journal:\n",
            "Today I learned about vibe coding and file handling in Python.\n",
            "I'm starting to feel like a real programmer!\n",
            "\n"
          ]
        }
      ]
    }
  ]
}