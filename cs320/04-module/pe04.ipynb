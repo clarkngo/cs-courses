{
  "nbformat": 4,
  "nbformat_minor": 0,
  "metadata": {
    "colab": {
      "provenance": []
    },
    "kernelspec": {
      "name": "python3",
      "display_name": "Python 3"
    },
    "language_info": {
      "name": "python"
    }
  },
  "cells": [
    {
      "cell_type": "markdown",
      "source": [
        "Problem 1. Longest Common Prefix\n",
        "\n",
        "Write a function to find the longest common prefix string amongst an array of strings.\n",
        "\n",
        "If there is no common prefix, return an empty string \"\".\n",
        "\n",
        "\n",
        "\n",
        "Example 1:  \n",
        "\n",
        "Input: [\"flower\",\"flow\",\"flight\"]\n",
        "\n",
        "Output: \"fl\"\n",
        "\n",
        "\n",
        "\n",
        "Example 2:  \n",
        "\n",
        "Input: [\"dog\",\"racecar\",\"car\"]\n",
        "\n",
        "Output: \"\"\n",
        "\n",
        "\n",
        "\n",
        "Explanation: There is no common prefix among the input strings.\n",
        "\n",
        "\n",
        "\n",
        "Note: All given inputs are in lowercase letters a-z."
      ],
      "metadata": {
        "id": "ePjBp-N-7wgZ"
      }
    },
    {
      "cell_type": "code",
      "execution_count": 1,
      "metadata": {
        "id": "bT7jMlON7rjb"
      },
      "outputs": [],
      "source": [
        "def longestCommonPrefix(strs):\n",
        "    \"\"\"\n",
        "    Finds the longest common prefix string amongst an array of strings.\n",
        "\n",
        "    Args:\n",
        "        strs: A list of strings.\n",
        "\n",
        "    Returns:\n",
        "        The longest common prefix string.\n",
        "    \"\"\"\n",
        "    if not strs:\n",
        "        return \"\"\n",
        "\n",
        "    prefix = strs[0]\n",
        "    for i in range(1, len(strs)):\n",
        "        while strs[i].find(prefix) != 0:\n",
        "            prefix = prefix[:-1]\n",
        "            if not prefix:\n",
        "                return \"\"\n",
        "\n",
        "    return prefix"
      ]
    },
    {
      "cell_type": "code",
      "source": [
        "strs1 = [\"flower\", \"flow\", \"flight\"]\n",
        "strs2 = [\"dog\", \"racecar\", \"car\"]\n",
        "\n",
        "prefix1 = longestCommonPrefix(strs1)\n",
        "prefix2 = longestCommonPrefix(strs2)\n",
        "\n",
        "print(f\"Longest common prefix of {strs1}: {prefix1}\")  # Output: fl\n",
        "print(f\"Longest common prefix of {strs2}: {prefix2}\")  # Output: \"\""
      ],
      "metadata": {
        "id": "syfJBdOB7ym4",
        "colab": {
          "base_uri": "https://localhost:8080/"
        },
        "outputId": "89cb0443-24ea-4077-f6fc-ac4a3d3e45fc"
      },
      "execution_count": 2,
      "outputs": [
        {
          "output_type": "stream",
          "name": "stdout",
          "text": [
            "Longest common prefix of ['flower', 'flow', 'flight']: fl\n",
            "Longest common prefix of ['dog', 'racecar', 'car']: \n"
          ]
        }
      ]
    },
    {
      "cell_type": "markdown",
      "source": [
        "Problem 2. Adding Numbers\n",
        "\n",
        "One common problem when prompting numerical input occurs when people provide text instead of numbers. When you try to convert the input to an int, you'll get a ValueError. Write a program that prompts for two numbers. Add them together and print the results. Catch the ValueError if either input value is not a number and print a friendly error message. Test your program by entering two numbers and then by entering some text instead of a number."
      ],
      "metadata": {
        "id": "PIf4wOru75dN"
      }
    },
    {
      "cell_type": "code",
      "source": [
        "def add_numbers():\n",
        "    \"\"\"Prompts for two numbers, adds them, and handles errors.\"\"\"\n",
        "    try:\n",
        "        num1 = int(input(\"Enter the first number: \"))\n",
        "        num2 = int(input(\"Enter the second number: \"))\n",
        "        result = num1 + num2\n",
        "        print(f\"The sum of {num1} and {num2} is {result}\")\n",
        "    except ValueError:\n",
        "        print(\"Invalid input. Please enter numbers only.\")\n",
        "\n",
        "# Example usage\n",
        "add_numbers()  # Call the function to run the program"
      ],
      "metadata": {
        "id": "A8TQGVPh79uh",
        "colab": {
          "base_uri": "https://localhost:8080/"
        },
        "outputId": "4c485938-3636-4648-f401-5c44c7006387"
      },
      "execution_count": 3,
      "outputs": [
        {
          "output_type": "stream",
          "name": "stdout",
          "text": [
            "Enter the first number: 5\n",
            "Enter the second number: 4\n",
            "The sum of 5 and 4 is 9\n"
          ]
        }
      ]
    },
    {
      "cell_type": "markdown",
      "source": [
        "Problem 3. Working with Files:\n",
        "\n",
        "Make two files, cats.txt and dogs.txt. Store at least three names of cats in the first file and three names of dogs in the second file. Write a program that tries to read these files and print the contents of the file to the screen. Wrap your code in a try-except block to catch the FileNotFound error and print a friendly message if a file is missing."
      ],
      "metadata": {
        "id": "tZ165Jz88HEy"
      }
    },
    {
      "cell_type": "code",
      "source": [
        "# Create and write to cats.txt\n",
        "with open('cats.txt', 'w') as f:\n",
        "    f.write('Whiskers\\nMittens\\nFluffy')\n",
        "\n",
        "# Create and write to dogs.txt\n",
        "with open('dogs.txt', 'w') as f:\n",
        "    f.write('Buddy\\nMax\\nCharlie')\n",
        "\n",
        "# Try to read and print file contents\n",
        "def read_and_print_file(filename):\n",
        "    try:\n",
        "        with open(filename, 'r') as f:\n",
        "            contents = f.read()\n",
        "            print(f\"Contents of {filename}:\\n{contents}\")\n",
        "    except FileNotFoundError:\n",
        "        print(f\"Sorry, the file {filename} was not found.\")\n",
        "\n",
        "# Call the function for both files\n",
        "read_and_print_file('cats.txt')\n",
        "read_and_print_file('dogs.txt')"
      ],
      "metadata": {
        "id": "fN1uu5Ur8Kj4",
        "colab": {
          "base_uri": "https://localhost:8080/"
        },
        "outputId": "a6e35b73-ac12-4ed7-f906-47371b8b4d21"
      },
      "execution_count": 4,
      "outputs": [
        {
          "output_type": "stream",
          "name": "stdout",
          "text": [
            "Contents of cats.txt:\n",
            "Whiskers\n",
            "Mittens\n",
            "Fluffy\n",
            "Contents of dogs.txt:\n",
            "Buddy\n",
            "Max\n",
            "Charlie\n"
          ]
        }
      ]
    },
    {
      "cell_type": "markdown",
      "source": [
        "Problem 4: Vibe coding\n",
        "\n",
        "Guide: Create Something Useful to You\n",
        "\n",
        "\n",
        "\n",
        "Now that you've practiced important programming skills like:\n",
        "\n",
        "String pattern matching (longest common prefix)\n",
        "\n",
        "Error handling with user input (adding numbers)\n",
        "\n",
        "Reading from and writing to files (cats.txt, dogs.txt)\n",
        "\n",
        "  \n",
        "\n",
        "It's time to vibe code a small personal or useful tool that combines at least two of those concepts.\n",
        "\n",
        "  \n",
        "\n",
        "Instead of following a rigid prompt, you'll design a mini-program that feels relevant, fun, or helpful — something you would actually use."
      ],
      "metadata": {
        "id": "SgT_JuzK8dVz"
      }
    },
    {
      "cell_type": "code",
      "source": [
        "def organizeNotes(noteList):\n",
        "    \"\"\" Group notes by prefix and write to separate files. \"\"\"\n",
        "    from collections import defaultdict\n",
        "\n",
        "    groups = defaultdict(list)\n",
        "\n",
        "    for note in noteList:\n",
        "        if '_' in note:\n",
        "            prefix = note.split('_')[0]\n",
        "            groups[prefix].append(note)\n",
        "        else:\n",
        "            print(f\"⚠️ Invalid note format: {note}\")\n",
        "\n",
        "    for prefix, notes in groups.items():\n",
        "        try:\n",
        "            with open(f\"{prefix}_notes.txt\", 'w') as file:\n",
        "                for note in notes:\n",
        "                    file.write(note + '\\n')\n",
        "            print(f\"✅ Saved {len(notes)} notes to {prefix}_notes.txt\")\n",
        "        except Exception as e:\n",
        "            print(f\"❌ Error writing {prefix}_notes.txt: {e}\")\n",
        "\n",
        "# Example usage\n",
        "sampleNotes = [\"bio_genetics\", \"bio_cells\", \"chem_reactions\", \"chem_bonds\", \"invalidnote\"]\n",
        "organizeNotes(sampleNotes)\n"
      ],
      "metadata": {
        "colab": {
          "base_uri": "https://localhost:8080/"
        },
        "id": "LLr75dxq8d-I",
        "outputId": "37bcf9c2-f6d0-460f-cecb-14c28acd86ed"
      },
      "execution_count": 5,
      "outputs": [
        {
          "output_type": "stream",
          "name": "stdout",
          "text": [
            "⚠️ Invalid note format: invalidnote\n",
            "✅ Saved 2 notes to bio_notes.txt\n",
            "✅ Saved 2 notes to chem_notes.txt\n"
          ]
        }
      ]
    }
  ]
}